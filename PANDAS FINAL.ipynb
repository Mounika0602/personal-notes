{
 "cells": [
  {
   "cell_type": "markdown",
   "metadata": {},
   "source": [
    "PANDAS FINAL"
   ]
  },
  {
   "cell_type": "code",
   "execution_count": 1,
   "metadata": {},
   "outputs": [],
   "source": [
    "import pandas as pd\n",
    "import numpy as np"
   ]
  },
  {
   "cell_type": "code",
   "execution_count": 2,
   "metadata": {},
   "outputs": [],
   "source": [
    "a=pd.Series([1,2,3,4,5,6,7,8])"
   ]
  },
  {
   "cell_type": "code",
   "execution_count": 3,
   "metadata": {},
   "outputs": [
    {
     "data": {
      "text/plain": [
       "0    1\n",
       "1    2\n",
       "2    3\n",
       "3    4\n",
       "4    5\n",
       "5    6\n",
       "6    7\n",
       "7    8\n",
       "dtype: int64"
      ]
     },
     "execution_count": 3,
     "metadata": {},
     "output_type": "execute_result"
    }
   ],
   "source": [
    "a"
   ]
  },
  {
   "cell_type": "code",
   "execution_count": 4,
   "metadata": {},
   "outputs": [
    {
     "data": {
      "text/plain": [
       "0    1\n",
       "1    7\n",
       "2    4\n",
       "3    2\n",
       "4    9\n",
       "5    3\n",
       "6    8\n",
       "dtype: int64"
      ]
     },
     "execution_count": 4,
     "metadata": {},
     "output_type": "execute_result"
    }
   ],
   "source": [
    "a=pd.Series([1,7,4,2,9,3,8,])\n",
    "a"
   ]
  },
  {
   "cell_type": "code",
   "execution_count": 7,
   "metadata": {},
   "outputs": [],
   "source": [
    "b=pd.Series([4,5,6,7,2,3])"
   ]
  },
  {
   "cell_type": "code",
   "execution_count": 8,
   "metadata": {},
   "outputs": [
    {
     "data": {
      "text/plain": [
       "0    4\n",
       "1    5\n",
       "2    6\n",
       "3    7\n",
       "4    2\n",
       "5    3\n",
       "dtype: int64"
      ]
     },
     "execution_count": 8,
     "metadata": {},
     "output_type": "execute_result"
    }
   ],
   "source": [
    "b"
   ]
  },
  {
   "cell_type": "code",
   "execution_count": 11,
   "metadata": {},
   "outputs": [
    {
     "data": {
      "text/plain": [
       "11    44\n",
       "12    66\n",
       "13    88\n",
       "14    22\n",
       "15    11\n",
       "dtype: int64"
      ]
     },
     "execution_count": 11,
     "metadata": {},
     "output_type": "execute_result"
    }
   ],
   "source": [
    "c=pd.Series([44,66,88,22,11],index=[11,12,13,14,15])\n",
    "c"
   ]
  },
  {
   "cell_type": "code",
   "execution_count": 12,
   "metadata": {},
   "outputs": [
    {
     "data": {
      "text/plain": [
       "11    44.0\n",
       "12    66.0\n",
       "13    88.0\n",
       "14    22.0\n",
       "15    11.0\n",
       "dtype: float64"
      ]
     },
     "execution_count": 12,
     "metadata": {},
     "output_type": "execute_result"
    }
   ],
   "source": [
    "c=pd.Series([44,66,88,22,11],index=[11,12,13,14,15],dtype=float)\n",
    "c"
   ]
  },
  {
   "cell_type": "code",
   "execution_count": 14,
   "metadata": {},
   "outputs": [
    {
     "name": "stdout",
     "output_type": "stream",
     "text": [
      "3\n"
     ]
    }
   ],
   "source": [
    "a=pd.Series([3,4,5,6,7,8])\n",
    "print(a[0])"
   ]
  },
  {
   "cell_type": "code",
   "execution_count": 15,
   "metadata": {},
   "outputs": [
    {
     "name": "stdout",
     "output_type": "stream",
     "text": [
      "0    3\n",
      "1    4\n",
      "2    5\n",
      "dtype: int64\n"
     ]
    }
   ],
   "source": [
    "a=pd.Series([3,4,5,6,7,8])\n",
    "print(a[0:3])"
   ]
  },
  {
   "cell_type": "code",
   "execution_count": 16,
   "metadata": {},
   "outputs": [
    {
     "data": {
      "text/plain": [
       "0    1\n",
       "1    2\n",
       "2    3\n",
       "3    4\n",
       "4    5\n",
       "dtype: int32"
      ]
     },
     "execution_count": 16,
     "metadata": {},
     "output_type": "execute_result"
    }
   ],
   "source": [
    "data =np.array([1,2,3,4,5])\n",
    "m=pd.Series(data)\n",
    "m"
   ]
  },
  {
   "cell_type": "code",
   "execution_count": 17,
   "metadata": {},
   "outputs": [
    {
     "data": {
      "text/plain": [
       "name     x\n",
       "age     12\n",
       "dtype: object"
      ]
     },
     "execution_count": 17,
     "metadata": {},
     "output_type": "execute_result"
    }
   ],
   "source": [
    "demodict={'name':'x','age':12}\n",
    "s1=pd.Series(demodict)\n",
    "s1"
   ]
  },
  {
   "cell_type": "code",
   "execution_count": 20,
   "metadata": {},
   "outputs": [
    {
     "data": {
      "text/plain": [
       "name       mounika\n",
       "age             25\n",
       "country      india\n",
       "dtype: object"
      ]
     },
     "execution_count": 20,
     "metadata": {},
     "output_type": "execute_result"
    }
   ],
   "source": [
    "csk={'name':\"mounika\",\"age\":25,\"country\":\"india\"}\n",
    "csk=pd.Series(csk)\n",
    "csk"
   ]
  },
  {
   "cell_type": "code",
   "execution_count": 21,
   "metadata": {},
   "outputs": [
    {
     "name": "stdout",
     "output_type": "stream",
     "text": [
      "sql       80\n",
      "python    70\n",
      "java      75\n",
      "html      78\n",
      "dtype: int64\n"
     ]
    }
   ],
   "source": [
    "d={\"sql\":80,\"python\":70,\"java\":75,\"html\":78}\n",
    "d=pd.Series(d)\n",
    "print(d)"
   ]
  },
  {
   "cell_type": "markdown",
   "metadata": {},
   "source": [
    "DATA FRAMES"
   ]
  },
  {
   "cell_type": "code",
   "execution_count": 29,
   "metadata": {},
   "outputs": [
    {
     "data": {
      "text/html": [
       "<div>\n",
       "<style scoped>\n",
       "    .dataframe tbody tr th:only-of-type {\n",
       "        vertical-align: middle;\n",
       "    }\n",
       "\n",
       "    .dataframe tbody tr th {\n",
       "        vertical-align: top;\n",
       "    }\n",
       "\n",
       "    .dataframe thead th {\n",
       "        text-align: right;\n",
       "    }\n",
       "</style>\n",
       "<table border=\"1\" class=\"dataframe\">\n",
       "  <thead>\n",
       "    <tr style=\"text-align: right;\">\n",
       "      <th></th>\n",
       "      <th>0</th>\n",
       "    </tr>\n",
       "  </thead>\n",
       "  <tbody>\n",
       "    <tr>\n",
       "      <th>0</th>\n",
       "      <td>1</td>\n",
       "    </tr>\n",
       "    <tr>\n",
       "      <th>1</th>\n",
       "      <td>2</td>\n",
       "    </tr>\n",
       "    <tr>\n",
       "      <th>2</th>\n",
       "      <td>3</td>\n",
       "    </tr>\n",
       "    <tr>\n",
       "      <th>3</th>\n",
       "      <td>4</td>\n",
       "    </tr>\n",
       "    <tr>\n",
       "      <th>4</th>\n",
       "      <td>5</td>\n",
       "    </tr>\n",
       "    <tr>\n",
       "      <th>5</th>\n",
       "      <td>6</td>\n",
       "    </tr>\n",
       "  </tbody>\n",
       "</table>\n",
       "</div>"
      ],
      "text/plain": [
       "   0\n",
       "0  1\n",
       "1  2\n",
       "2  3\n",
       "3  4\n",
       "4  5\n",
       "5  6"
      ]
     },
     "execution_count": 29,
     "metadata": {},
     "output_type": "execute_result"
    }
   ],
   "source": [
    "data = [1,2,3,4,5,6]\n",
    "df=pd.DataFrame(data)\n",
    "df"
   ]
  },
  {
   "cell_type": "code",
   "execution_count": 26,
   "metadata": {},
   "outputs": [],
   "source": [
    "    import pandas as pd"
   ]
  },
  {
   "cell_type": "code",
   "execution_count": 28,
   "metadata": {},
   "outputs": [
    {
     "data": {
      "text/html": [
       "<div>\n",
       "<style scoped>\n",
       "    .dataframe tbody tr th:only-of-type {\n",
       "        vertical-align: middle;\n",
       "    }\n",
       "\n",
       "    .dataframe tbody tr th {\n",
       "        vertical-align: top;\n",
       "    }\n",
       "\n",
       "    .dataframe thead th {\n",
       "        text-align: right;\n",
       "    }\n",
       "</style>\n",
       "<table border=\"1\" class=\"dataframe\">\n",
       "  <thead>\n",
       "    <tr style=\"text-align: right;\">\n",
       "      <th></th>\n",
       "      <th>0</th>\n",
       "    </tr>\n",
       "  </thead>\n",
       "  <tbody>\n",
       "    <tr>\n",
       "      <th>0</th>\n",
       "      <td>1</td>\n",
       "    </tr>\n",
       "    <tr>\n",
       "      <th>1</th>\n",
       "      <td>2</td>\n",
       "    </tr>\n",
       "    <tr>\n",
       "      <th>2</th>\n",
       "      <td>3</td>\n",
       "    </tr>\n",
       "    <tr>\n",
       "      <th>3</th>\n",
       "      <td>4</td>\n",
       "    </tr>\n",
       "  </tbody>\n",
       "</table>\n",
       "</div>"
      ],
      "text/plain": [
       "   0\n",
       "0  1\n",
       "1  2\n",
       "2  3\n",
       "3  4"
      ]
     },
     "execution_count": 28,
     "metadata": {},
     "output_type": "execute_result"
    }
   ],
   "source": [
    "data = [1,2,3,4]\n",
    "df=pd.DataFrame(data)\n",
    "df"
   ]
  },
  {
   "cell_type": "code",
   "execution_count": 31,
   "metadata": {},
   "outputs": [
    {
     "name": "stdout",
     "output_type": "stream",
     "text": [
      "        0   1\n",
      "0     sam  20\n",
      "1    john  40\n",
      "2  kingle  50\n"
     ]
    }
   ],
   "source": [
    "import pandas as pd\n",
    "\n",
    "dt=(['sam',20],['john',40],['kingle',50])\n",
    "dt=pd.DataFrame(dt)\n",
    "print(dt)"
   ]
  },
  {
   "cell_type": "code",
   "execution_count": 39,
   "metadata": {},
   "outputs": [
    {
     "name": "stdout",
     "output_type": "stream",
     "text": [
      "     name  age\n",
      "0     don   20\n",
      "1    john   57\n",
      "2  mathew   66\n"
     ]
    }
   ],
   "source": [
    "import pandas as pd\n",
    "\n",
    "\n",
    "data={'name':['don', 'john', 'mathew'],'age':[20,57,66]}\n",
    "data=pd.DataFrame(data)\n",
    "print(data)"
   ]
  },
  {
   "cell_type": "code",
   "execution_count": 40,
   "metadata": {},
   "outputs": [
    {
     "name": "stdout",
     "output_type": "stream",
     "text": [
      "  student name  class\n",
      "0      fathima      4\n",
      "1      ridhima      5\n",
      "2      jothima      6\n"
     ]
    }
   ],
   "source": [
    "x={'student name':['fathima','ridhima','jothima'],'class':[4,5,6]}\n",
    "x=pd.DataFrame(x)\n",
    "print(x)"
   ]
  },
  {
   "cell_type": "code",
   "execution_count": 46,
   "metadata": {},
   "outputs": [
    {
     "name": "stdout",
     "output_type": "stream",
     "text": [
      "  name   age\n",
      "0  job  56.0\n",
      "1  bob  89.0\n",
      "2  rob  78.0\n"
     ]
    }
   ],
   "source": [
    "data=[['job',56],['bob',89],['rob',78]]\n",
    "data=pd.DataFrame(data,columns=['name','age'],dtype=float)\n",
    "print(data)                 "
   ]
  },
  {
   "cell_type": "code",
   "execution_count": 47,
   "metadata": {},
   "outputs": [
    {
     "name": "stdout",
     "output_type": "stream",
     "text": [
      "     a    b    c\n",
      "0  1.0  2.0  NaN\n",
      "1  2.0  4.0  6.0\n"
     ]
    }
   ],
   "source": [
    "data=[{'a':1,'b':2},{'a':2,'b':4,'c':6}]\n",
    "data=pd.DataFrame(data,dtype=float)\n",
    "print(data)"
   ]
  },
  {
   "cell_type": "code",
   "execution_count": 49,
   "metadata": {},
   "outputs": [
    {
     "name": "stdout",
     "output_type": "stream",
     "text": [
      "     a    b    c     d\n",
      "0  3.0  5.0  8.0   NaN\n",
      "1  5.0  NaN  4.0  10.0\n"
     ]
    }
   ],
   "source": [
    "data=[{'a':3,'b':5,'c':8},{'a':5,'c':4,'d':10}]\n",
    "data=pd.DataFrame(data,dtype=float)\n",
    "print(data)"
   ]
  },
  {
   "cell_type": "code",
   "execution_count": 56,
   "metadata": {},
   "outputs": [
    {
     "name": "stdout",
     "output_type": "stream",
     "text": [
      "        a    b  c     d\n",
      "first   5  4.0  8  10.0\n",
      "second  6  NaN  1   NaN\n",
      "\n",
      "\n",
      "        a  b1  c  d1\n",
      "first   5 NaN  8 NaN\n",
      "second  6 NaN  1 NaN\n"
     ]
    }
   ],
   "source": [
    "data=[{'a':5,'b':4,'c':8,'d':10},{'a':6,'c':1}]\n",
    "data1=pd.DataFrame(data,index=['first','second'],columns=['a','b','c','d'])\n",
    "data2=pd.DataFrame(data,index=['first','second'],columns=['a','b1','c','d1'])\n",
    "print(data1)\n",
    "print(\"\\n\")\n",
    "print(data2)"
   ]
  },
  {
   "cell_type": "code",
   "execution_count": 57,
   "metadata": {},
   "outputs": [
    {
     "name": "stdout",
     "output_type": "stream",
     "text": [
      "   a  b\n",
      "0  1  2\n",
      "1  3  4\n",
      "0  4  5\n",
      "1  6  7\n"
     ]
    }
   ],
   "source": [
    "df1=pd.DataFrame([[1,2],[3,4]],columns=['a','b'])\n",
    "df2=pd.DataFrame([[4,5],[6,7]],columns=['a','b'])\n",
    "\n",
    "df3=df1.append(df2)\n",
    "print(df3)"
   ]
  },
  {
   "cell_type": "code",
   "execution_count": 59,
   "metadata": {},
   "outputs": [
    {
     "data": {
      "text/html": [
       "<div>\n",
       "<style scoped>\n",
       "    .dataframe tbody tr th:only-of-type {\n",
       "        vertical-align: middle;\n",
       "    }\n",
       "\n",
       "    .dataframe tbody tr th {\n",
       "        vertical-align: top;\n",
       "    }\n",
       "\n",
       "    .dataframe thead th {\n",
       "        text-align: right;\n",
       "    }\n",
       "</style>\n",
       "<table border=\"1\" class=\"dataframe\">\n",
       "  <thead>\n",
       "    <tr style=\"text-align: right;\">\n",
       "      <th></th>\n",
       "      <th>A</th>\n",
       "      <th>B</th>\n",
       "      <th>C</th>\n",
       "      <th>D</th>\n",
       "    </tr>\n",
       "  </thead>\n",
       "  <tbody>\n",
       "    <tr>\n",
       "      <th>0</th>\n",
       "      <td>-1.209371</td>\n",
       "      <td>-2.904919</td>\n",
       "      <td>0.495638</td>\n",
       "      <td>-2.623767</td>\n",
       "    </tr>\n",
       "    <tr>\n",
       "      <th>1</th>\n",
       "      <td>-0.613483</td>\n",
       "      <td>0.298650</td>\n",
       "      <td>1.989438</td>\n",
       "      <td>-1.952578</td>\n",
       "    </tr>\n",
       "    <tr>\n",
       "      <th>2</th>\n",
       "      <td>-0.037177</td>\n",
       "      <td>-0.558338</td>\n",
       "      <td>-0.157624</td>\n",
       "      <td>-0.373802</td>\n",
       "    </tr>\n",
       "    <tr>\n",
       "      <th>3</th>\n",
       "      <td>-0.617030</td>\n",
       "      <td>0.025680</td>\n",
       "      <td>-0.856130</td>\n",
       "      <td>1.090211</td>\n",
       "    </tr>\n",
       "    <tr>\n",
       "      <th>4</th>\n",
       "      <td>-0.277228</td>\n",
       "      <td>0.901057</td>\n",
       "      <td>0.031769</td>\n",
       "      <td>-0.024722</td>\n",
       "    </tr>\n",
       "    <tr>\n",
       "      <th>5</th>\n",
       "      <td>-0.851883</td>\n",
       "      <td>0.264774</td>\n",
       "      <td>-0.242719</td>\n",
       "      <td>2.160463</td>\n",
       "    </tr>\n",
       "    <tr>\n",
       "      <th>6</th>\n",
       "      <td>-0.837142</td>\n",
       "      <td>-0.596864</td>\n",
       "      <td>0.887875</td>\n",
       "      <td>0.872706</td>\n",
       "    </tr>\n",
       "    <tr>\n",
       "      <th>7</th>\n",
       "      <td>0.984186</td>\n",
       "      <td>1.446465</td>\n",
       "      <td>-0.075665</td>\n",
       "      <td>-0.295627</td>\n",
       "    </tr>\n",
       "  </tbody>\n",
       "</table>\n",
       "</div>"
      ],
      "text/plain": [
       "          A         B         C         D\n",
       "0 -1.209371 -2.904919  0.495638 -2.623767\n",
       "1 -0.613483  0.298650  1.989438 -1.952578\n",
       "2 -0.037177 -0.558338 -0.157624 -0.373802\n",
       "3 -0.617030  0.025680 -0.856130  1.090211\n",
       "4 -0.277228  0.901057  0.031769 -0.024722\n",
       "5 -0.851883  0.264774 -0.242719  2.160463\n",
       "6 -0.837142 -0.596864  0.887875  0.872706\n",
       "7  0.984186  1.446465 -0.075665 -0.295627"
      ]
     },
     "execution_count": 59,
     "metadata": {},
     "output_type": "execute_result"
    }
   ],
   "source": [
    "df=pd.DataFrame(np.random.randn(8,4),columns=['A','B','C','D'])\n",
    "df"
   ]
  },
  {
   "cell_type": "code",
   "execution_count": 62,
   "metadata": {},
   "outputs": [
    {
     "name": "stdout",
     "output_type": "stream",
     "text": [
      "          A         B         C\n",
      "0 -1.209371 -2.904919  0.495638\n",
      "1 -0.613483  0.298650  1.989438\n",
      "2 -0.037177 -0.558338 -0.157624\n",
      "3 -0.617030  0.025680 -0.856130\n"
     ]
    }
   ],
   "source": [
    "print(df.loc[0:3,'A':'C'])"
   ]
  },
  {
   "cell_type": "code",
   "execution_count": 63,
   "metadata": {},
   "outputs": [
    {
     "name": "stdout",
     "output_type": "stream",
     "text": [
      "          A         B\n",
      "0 -1.209371 -2.904919\n",
      "1 -0.613483  0.298650\n",
      "2 -0.037177 -0.558338\n"
     ]
    }
   ],
   "source": [
    "print(df.iloc[0:3,0:2])"
   ]
  },
  {
   "cell_type": "code",
   "execution_count": 65,
   "metadata": {},
   "outputs": [
    {
     "name": "stdout",
     "output_type": "stream",
     "text": [
      "          B         C\n",
      "4  0.901057  0.031769\n",
      "5  0.264774 -0.242719\n",
      "6 -0.596864  0.887875\n"
     ]
    }
   ],
   "source": [
    "print(df.iloc[4:7,1:3])"
   ]
  },
  {
   "cell_type": "code",
   "execution_count": 67,
   "metadata": {},
   "outputs": [
    {
     "name": "stdout",
     "output_type": "stream",
     "text": [
      "          B         C\n",
      "0 -2.904919  0.495638\n",
      "1  0.298650  1.989438\n",
      "2 -0.558338 -0.157624\n",
      "3  0.025680 -0.856130\n",
      "4  0.901057  0.031769\n",
      "5  0.264774 -0.242719\n",
      "6 -0.596864  0.887875\n",
      "7  1.446465 -0.075665\n"
     ]
    }
   ],
   "source": [
    "print(df.iloc[:,1:3])"
   ]
  },
  {
   "cell_type": "code",
   "execution_count": 72,
   "metadata": {},
   "outputs": [
    {
     "name": "stdout",
     "output_type": "stream",
     "text": [
      "          A\n",
      "0 -1.209371\n",
      "1 -0.613483\n",
      "2 -0.037177\n",
      "3 -0.617030\n",
      "4 -0.277228\n",
      "5 -0.851883\n",
      "6 -0.837142\n",
      "7  0.984186\n"
     ]
    }
   ],
   "source": [
    "print(df.iloc[:,0:1])"
   ]
  },
  {
   "cell_type": "code",
   "execution_count": 73,
   "metadata": {},
   "outputs": [
    {
     "name": "stdout",
     "output_type": "stream",
     "text": [
      "          B\n",
      "0 -2.904919\n",
      "1  0.298650\n",
      "2 -0.558338\n",
      "3  0.025680\n",
      "4  0.901057\n",
      "5  0.264774\n",
      "6 -0.596864\n",
      "7  1.446465\n"
     ]
    }
   ],
   "source": [
    "print(df.iloc[:,1:2])"
   ]
  },
  {
   "cell_type": "code",
   "execution_count": 74,
   "metadata": {},
   "outputs": [
    {
     "name": "stdout",
     "output_type": "stream",
     "text": [
      "          C\n",
      "0  0.495638\n",
      "1  1.989438\n",
      "2 -0.157624\n",
      "3 -0.856130\n",
      "4  0.031769\n",
      "5 -0.242719\n",
      "6  0.887875\n",
      "7 -0.075665\n"
     ]
    }
   ],
   "source": [
    "print(df.iloc[:,2:3])"
   ]
  },
  {
   "cell_type": "code",
   "execution_count": 78,
   "metadata": {},
   "outputs": [
    {
     "name": "stdout",
     "output_type": "stream",
     "text": [
      "0   -2.623767\n",
      "1   -1.952578\n",
      "2   -0.373802\n",
      "3    1.090211\n",
      "4   -0.024722\n",
      "5    2.160463\n",
      "6    0.872706\n",
      "7   -0.295627\n",
      "Name: D, dtype: float64\n"
     ]
    }
   ],
   "source": [
    "print(df.iloc[:,-1])"
   ]
  },
  {
   "cell_type": "code",
   "execution_count": null,
   "metadata": {},
   "outputs": [],
   "source": []
  }
 ],
 "metadata": {
  "kernelspec": {
   "display_name": "Python 3",
   "language": "python",
   "name": "python3"
  },
  "language_info": {
   "codemirror_mode": {
    "name": "ipython",
    "version": 3
   },
   "file_extension": ".py",
   "mimetype": "text/x-python",
   "name": "python",
   "nbconvert_exporter": "python",
   "pygments_lexer": "ipython3",
   "version": "3.8.5"
  }
 },
 "nbformat": 4,
 "nbformat_minor": 4
}
