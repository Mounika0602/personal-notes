{
 "cells": [
  {
   "cell_type": "markdown",
   "id": "73745ef0",
   "metadata": {},
   "source": [
    "WEB SCRAPING ASSIGNMENT-2 selenium"
   ]
  },
  {
   "cell_type": "markdown",
   "id": "27773a49",
   "metadata": {},
   "source": [
    "1. Q1: Write a python program to scrape data for “Data Analyst” Job position in \n",
    "“Bangalore” location. You have to scrape the job-title, job-location, company_name,\n",
    "experience_required. You have to scrape first 10 jobs data."
   ]
  },
  {
   "cell_type": "code",
   "execution_count": 50,
   "id": "47fab2c7",
   "metadata": {},
   "outputs": [],
   "source": [
    "# LETS NOW IMPORT ALL REQUIRED LIBRARIES\n",
    "import selenium\n",
    "import pandas as pd\n",
    "from selenium import webdriver"
   ]
  },
  {
   "cell_type": "code",
   "execution_count": 51,
   "id": "3ea3abc8",
   "metadata": {},
   "outputs": [],
   "source": [
    "driver = webdriver.Chrome(\"chromedriver.exe\")"
   ]
  },
  {
   "cell_type": "code",
   "execution_count": 52,
   "id": "0b96f4d6",
   "metadata": {},
   "outputs": [],
   "source": [
    "url = 'https://www.naukri.com/'\n",
    "driver.get(url)"
   ]
  },
  {
   "cell_type": "code",
   "execution_count": 53,
   "id": "85789a32",
   "metadata": {},
   "outputs": [
    {
     "data": {
      "text/plain": [
       "<selenium.webdriver.remote.webelement.WebElement (session=\"8e5be921e955c828cbc8c211e4eca58a\", element=\"d6199d61-54c6-4271-b1b5-d7feba8e3d94\")>"
      ]
     },
     "execution_count": 53,
     "metadata": {},
     "output_type": "execute_result"
    }
   ],
   "source": [
    "#finding element for job search bar\n",
    "search_job = driver.find_element_by_id(\"qsb-keyword-sugg\")\n",
    "search_job"
   ]
  },
  {
   "cell_type": "code",
   "execution_count": 54,
   "id": "b8fb3011",
   "metadata": {},
   "outputs": [],
   "source": [
    "#write on search bar\n",
    "search_job.send_keys(\"Data Analyst\")"
   ]
  },
  {
   "cell_type": "code",
   "execution_count": 55,
   "id": "5e27e8c8",
   "metadata": {},
   "outputs": [],
   "source": [
    "# finding element for job location bar\n",
    "search_loc = driver.find_element_by_id(\"qsb-location-sugg\")\n",
    "search_loc.send_keys(\"Bangalore\")"
   ]
  },
  {
   "cell_type": "code",
   "execution_count": 56,
   "id": "1a2fcdc5",
   "metadata": {},
   "outputs": [
    {
     "data": {
      "text/plain": [
       "<selenium.webdriver.remote.webelement.WebElement (session=\"8e5be921e955c828cbc8c211e4eca58a\", element=\"075c7322-e048-48d0-8360-11315bd5dc6c\")>"
      ]
     },
     "execution_count": 56,
     "metadata": {},
     "output_type": "execute_result"
    }
   ],
   "source": [
    "# clicking on search using xpath\n",
    "search_btn = driver.find_element_by_xpath(\"//button[@class='btn']\")\n",
    "search_btn"
   ]
  },
  {
   "cell_type": "code",
   "execution_count": 57,
   "id": "4fb4c034",
   "metadata": {},
   "outputs": [],
   "source": [
    "search_btn = driver.find_element_by_xpath(\"//button[@class='btn']\")\n",
    "search_btn.click()  #for clicking on to the search bar"
   ]
  },
  {
   "cell_type": "code",
   "execution_count": 59,
   "id": "899bd6f5",
   "metadata": {},
   "outputs": [
    {
     "data": {
      "text/plain": [
       "[<selenium.webdriver.remote.webelement.WebElement (session=\"8e5be921e955c828cbc8c211e4eca58a\", element=\"6a2a86ca-64ed-412b-830c-ff5b38afb1ba\")>,\n",
       " <selenium.webdriver.remote.webelement.WebElement (session=\"8e5be921e955c828cbc8c211e4eca58a\", element=\"9372deed-85cc-4c6a-9488-e6524ffc42f8\")>,\n",
       " <selenium.webdriver.remote.webelement.WebElement (session=\"8e5be921e955c828cbc8c211e4eca58a\", element=\"212d9115-f55e-42d3-ac0b-627134ebc8dc\")>,\n",
       " <selenium.webdriver.remote.webelement.WebElement (session=\"8e5be921e955c828cbc8c211e4eca58a\", element=\"b71b1863-b2ad-49b9-bfe4-4ec5252d0686\")>,\n",
       " <selenium.webdriver.remote.webelement.WebElement (session=\"8e5be921e955c828cbc8c211e4eca58a\", element=\"11da394f-06c4-42f3-9b5e-5173b3a4f07e\")>,\n",
       " <selenium.webdriver.remote.webelement.WebElement (session=\"8e5be921e955c828cbc8c211e4eca58a\", element=\"6ea6a486-0846-45f2-a6f5-f184c519dd2e\")>,\n",
       " <selenium.webdriver.remote.webelement.WebElement (session=\"8e5be921e955c828cbc8c211e4eca58a\", element=\"4fa987dc-f094-4764-8e93-9ba8d2d25144\")>,\n",
       " <selenium.webdriver.remote.webelement.WebElement (session=\"8e5be921e955c828cbc8c211e4eca58a\", element=\"9d139509-8ef6-4186-abdb-2aa9dccdf6c3\")>,\n",
       " <selenium.webdriver.remote.webelement.WebElement (session=\"8e5be921e955c828cbc8c211e4eca58a\", element=\"6fdecc7b-30d1-4de8-9db4-5d4d80a28c1f\")>,\n",
       " <selenium.webdriver.remote.webelement.WebElement (session=\"8e5be921e955c828cbc8c211e4eca58a\", element=\"ab7a8275-0a4d-4fe1-a2aa-05a5de90633f\")>,\n",
       " <selenium.webdriver.remote.webelement.WebElement (session=\"8e5be921e955c828cbc8c211e4eca58a\", element=\"a80cef62-d529-4c4a-b00e-e399d5802922\")>,\n",
       " <selenium.webdriver.remote.webelement.WebElement (session=\"8e5be921e955c828cbc8c211e4eca58a\", element=\"1c4cfbd7-6ad7-4229-b927-555690e19343\")>,\n",
       " <selenium.webdriver.remote.webelement.WebElement (session=\"8e5be921e955c828cbc8c211e4eca58a\", element=\"e0f8cd33-cf63-4ac3-84f5-e99cfe387e6e\")>,\n",
       " <selenium.webdriver.remote.webelement.WebElement (session=\"8e5be921e955c828cbc8c211e4eca58a\", element=\"4f12cb2a-18c4-455a-8ab8-b5d2e56b5672\")>,\n",
       " <selenium.webdriver.remote.webelement.WebElement (session=\"8e5be921e955c828cbc8c211e4eca58a\", element=\"21955e5a-1c96-4045-9037-f8fe450baa93\")>,\n",
       " <selenium.webdriver.remote.webelement.WebElement (session=\"8e5be921e955c828cbc8c211e4eca58a\", element=\"8b6b0cb1-f753-4c17-af1a-3929b6f7c91c\")>,\n",
       " <selenium.webdriver.remote.webelement.WebElement (session=\"8e5be921e955c828cbc8c211e4eca58a\", element=\"d978bf48-a5cc-4012-a7a5-f5c4dbdc0cf3\")>,\n",
       " <selenium.webdriver.remote.webelement.WebElement (session=\"8e5be921e955c828cbc8c211e4eca58a\", element=\"457dd530-ce8d-4ac2-bd02-2c3d7a8634bc\")>,\n",
       " <selenium.webdriver.remote.webelement.WebElement (session=\"8e5be921e955c828cbc8c211e4eca58a\", element=\"eb028bed-3832-465f-9972-97c7232d832b\")>,\n",
       " <selenium.webdriver.remote.webelement.WebElement (session=\"8e5be921e955c828cbc8c211e4eca58a\", element=\"560963f9-7b27-40fa-8904-5fc2e1135987\")>]"
      ]
     },
     "execution_count": 59,
     "metadata": {},
     "output_type": "execute_result"
    }
   ],
   "source": [
    "# lets extract all the tags having the job titles\n",
    "titles_tags = driver.find_elements_by_xpath(\"//a[@class='title fw500 ellipsis']\")\n",
    "titles_tags"
   ]
  },
  {
   "cell_type": "code",
   "execution_count": 60,
   "id": "17fa9d98",
   "metadata": {},
   "outputs": [
    {
     "data": {
      "text/plain": [
       "['Business Data Analyst - MIS & Reporting',\n",
       " 'Senior Data Analyst - Data Lineage',\n",
       " 'Data Analyst - Informatica MDM',\n",
       " 'Data Analyst',\n",
       " 'Data Analyst',\n",
       " 'Excel VBA Jobs Bangalore | VBA data analyst Jobs',\n",
       " 'Data Analyst (2positions)//immediate Joiners//bangalore',\n",
       " 'Business/Data Analyst - SSE/LA',\n",
       " 'Business Data Analyst',\n",
       " 'Data Analyst']"
      ]
     },
     "execution_count": 60,
     "metadata": {},
     "output_type": "execute_result"
    }
   ],
   "source": [
    "# now we need to extract the data into text format\n",
    "job_title=[]\n",
    "for i in titles_tags:\n",
    "    job_title.append(i.text)\n",
    "job_title[:10]"
   ]
  },
  {
   "cell_type": "code",
   "execution_count": 61,
   "id": "fa83bf75",
   "metadata": {},
   "outputs": [
    {
     "data": {
      "text/plain": [
       "[<selenium.webdriver.remote.webelement.WebElement (session=\"8e5be921e955c828cbc8c211e4eca58a\", element=\"f3dbcc42-e7d0-4f65-811d-56b1dbaba772\")>,\n",
       " <selenium.webdriver.remote.webelement.WebElement (session=\"8e5be921e955c828cbc8c211e4eca58a\", element=\"0bc2dc2f-41bf-4958-8840-55a8aa41d0f2\")>,\n",
       " <selenium.webdriver.remote.webelement.WebElement (session=\"8e5be921e955c828cbc8c211e4eca58a\", element=\"8f4fbc76-3678-4f7f-b908-00368b5d5551\")>,\n",
       " <selenium.webdriver.remote.webelement.WebElement (session=\"8e5be921e955c828cbc8c211e4eca58a\", element=\"69a2aea1-4c2b-48f4-9f33-aebc0c295a7e\")>,\n",
       " <selenium.webdriver.remote.webelement.WebElement (session=\"8e5be921e955c828cbc8c211e4eca58a\", element=\"c6152b97-2a45-4022-877b-120d8fb2cf55\")>,\n",
       " <selenium.webdriver.remote.webelement.WebElement (session=\"8e5be921e955c828cbc8c211e4eca58a\", element=\"3c099f3a-506e-400b-a2ec-9e646e54bc2c\")>,\n",
       " <selenium.webdriver.remote.webelement.WebElement (session=\"8e5be921e955c828cbc8c211e4eca58a\", element=\"138c8345-6b7b-4adf-8319-2f3683858f7d\")>,\n",
       " <selenium.webdriver.remote.webelement.WebElement (session=\"8e5be921e955c828cbc8c211e4eca58a\", element=\"d8418ca4-4778-4e67-abd0-36f907ac358c\")>,\n",
       " <selenium.webdriver.remote.webelement.WebElement (session=\"8e5be921e955c828cbc8c211e4eca58a\", element=\"459c0938-e966-480e-9634-55d2c5944c70\")>,\n",
       " <selenium.webdriver.remote.webelement.WebElement (session=\"8e5be921e955c828cbc8c211e4eca58a\", element=\"fa2d5874-a010-4e59-a21e-a120a96d552f\")>,\n",
       " <selenium.webdriver.remote.webelement.WebElement (session=\"8e5be921e955c828cbc8c211e4eca58a\", element=\"55b9641f-fb30-40ee-87d7-5d40ce61e22a\")>,\n",
       " <selenium.webdriver.remote.webelement.WebElement (session=\"8e5be921e955c828cbc8c211e4eca58a\", element=\"ef564baf-3240-49cb-a0de-6a042aa074a4\")>,\n",
       " <selenium.webdriver.remote.webelement.WebElement (session=\"8e5be921e955c828cbc8c211e4eca58a\", element=\"20b15a46-498a-4e39-a2a7-b1a287cc335f\")>,\n",
       " <selenium.webdriver.remote.webelement.WebElement (session=\"8e5be921e955c828cbc8c211e4eca58a\", element=\"4f301243-ddb0-4c26-90fd-be867fd206c0\")>,\n",
       " <selenium.webdriver.remote.webelement.WebElement (session=\"8e5be921e955c828cbc8c211e4eca58a\", element=\"8d91e8d8-bcce-404a-8aaa-aa3df8a51ee3\")>,\n",
       " <selenium.webdriver.remote.webelement.WebElement (session=\"8e5be921e955c828cbc8c211e4eca58a\", element=\"aa2a1315-d41e-4f06-b55a-90043ad21ca7\")>,\n",
       " <selenium.webdriver.remote.webelement.WebElement (session=\"8e5be921e955c828cbc8c211e4eca58a\", element=\"cc085144-34ff-4afa-ae6b-95aa7850bd02\")>,\n",
       " <selenium.webdriver.remote.webelement.WebElement (session=\"8e5be921e955c828cbc8c211e4eca58a\", element=\"500f8a3d-ae3a-4a5d-b686-03b47341c285\")>,\n",
       " <selenium.webdriver.remote.webelement.WebElement (session=\"8e5be921e955c828cbc8c211e4eca58a\", element=\"276570da-f53d-4902-ad72-fec125442c43\")>,\n",
       " <selenium.webdriver.remote.webelement.WebElement (session=\"8e5be921e955c828cbc8c211e4eca58a\", element=\"92ec86f9-20c7-4fe8-a974-61239fdd07a8\")>]"
      ]
     },
     "execution_count": 61,
     "metadata": {},
     "output_type": "execute_result"
    }
   ],
   "source": [
    "# lets extract all the tags having the experience\n",
    "location_tags = driver.find_elements_by_xpath(\"//li[@class='fleft grey-text br2 placeHolderLi location']/span\")\n",
    "location_tags"
   ]
  },
  {
   "cell_type": "code",
   "execution_count": 62,
   "id": "223d5cca",
   "metadata": {},
   "outputs": [
    {
     "data": {
      "text/plain": [
       "['Mumbai, Bangalore/Bengaluru',\n",
       " 'Bangalore/Bengaluru',\n",
       " 'Bangalore/Bengaluru',\n",
       " 'Noida, Kolkata, Hyderabad/Secunderabad, Pune, Ahmedabad, Chennai, Bangalore/Bengaluru, Delhi / NCR, Mumbai (All Areas)',\n",
       " 'Noida, Kolkata, Hyderabad/Secunderabad, Pune, Ahmedabad, Chennai, Bangalore/Bengaluru, Delhi / NCR, Mumbai (All Areas)',\n",
       " 'Mysore/Mysuru, Coimbatore, Bangalore/Bengaluru',\n",
       " 'Bangalore/Bengaluru',\n",
       " 'Bangalore/Bengaluru',\n",
       " 'Chennai, Bangalore/Bengaluru, Mumbai (All Areas)',\n",
       " 'Bangalore/Bengaluru']"
      ]
     },
     "execution_count": 62,
     "metadata": {},
     "output_type": "execute_result"
    }
   ],
   "source": [
    "# now we need to extract the data into text format\n",
    "location_title=[]\n",
    "for i in location_tags:\n",
    "    location_title.append(i.text)\n",
    "location_title[:10]"
   ]
  },
  {
   "cell_type": "code",
   "execution_count": 63,
   "id": "8989d889",
   "metadata": {},
   "outputs": [
    {
     "data": {
      "text/plain": [
       "[<selenium.webdriver.remote.webelement.WebElement (session=\"8e5be921e955c828cbc8c211e4eca58a\", element=\"884ca69e-2d4d-4380-ad26-4c6def863e1a\")>,\n",
       " <selenium.webdriver.remote.webelement.WebElement (session=\"8e5be921e955c828cbc8c211e4eca58a\", element=\"ff4a5b74-5f40-4588-9c9f-a2dbc50796e5\")>,\n",
       " <selenium.webdriver.remote.webelement.WebElement (session=\"8e5be921e955c828cbc8c211e4eca58a\", element=\"bae635c1-c260-4293-8b31-fe89035ebeb5\")>,\n",
       " <selenium.webdriver.remote.webelement.WebElement (session=\"8e5be921e955c828cbc8c211e4eca58a\", element=\"791d63de-b481-4970-8f99-98b15df6995b\")>,\n",
       " <selenium.webdriver.remote.webelement.WebElement (session=\"8e5be921e955c828cbc8c211e4eca58a\", element=\"8fef3457-122f-43b6-a154-c2a09653c18b\")>,\n",
       " <selenium.webdriver.remote.webelement.WebElement (session=\"8e5be921e955c828cbc8c211e4eca58a\", element=\"42438840-5837-42bc-a20e-2eef2adeeb52\")>,\n",
       " <selenium.webdriver.remote.webelement.WebElement (session=\"8e5be921e955c828cbc8c211e4eca58a\", element=\"6090b98b-c920-4489-8b59-3ebaa5ba6998\")>,\n",
       " <selenium.webdriver.remote.webelement.WebElement (session=\"8e5be921e955c828cbc8c211e4eca58a\", element=\"9f6d5da2-ccfe-4cad-9cfb-d92d140b0047\")>,\n",
       " <selenium.webdriver.remote.webelement.WebElement (session=\"8e5be921e955c828cbc8c211e4eca58a\", element=\"ede66472-5b94-42ef-a245-7f98b7767793\")>,\n",
       " <selenium.webdriver.remote.webelement.WebElement (session=\"8e5be921e955c828cbc8c211e4eca58a\", element=\"eeff562d-d5e2-4c5f-9618-0c601633fb75\")>,\n",
       " <selenium.webdriver.remote.webelement.WebElement (session=\"8e5be921e955c828cbc8c211e4eca58a\", element=\"84bd6222-e69a-4671-b137-41e8aefe6212\")>,\n",
       " <selenium.webdriver.remote.webelement.WebElement (session=\"8e5be921e955c828cbc8c211e4eca58a\", element=\"a4295e4f-e723-49cc-ae29-7ddccec934ad\")>,\n",
       " <selenium.webdriver.remote.webelement.WebElement (session=\"8e5be921e955c828cbc8c211e4eca58a\", element=\"a2ea7e73-1624-492f-a260-a6a96641c525\")>,\n",
       " <selenium.webdriver.remote.webelement.WebElement (session=\"8e5be921e955c828cbc8c211e4eca58a\", element=\"67398093-f5d9-43a0-9ef7-b5074b528351\")>,\n",
       " <selenium.webdriver.remote.webelement.WebElement (session=\"8e5be921e955c828cbc8c211e4eca58a\", element=\"bf3d9f3e-fffe-47bd-8fdf-868110ffb612\")>,\n",
       " <selenium.webdriver.remote.webelement.WebElement (session=\"8e5be921e955c828cbc8c211e4eca58a\", element=\"a1cf11ff-71af-4d03-b276-40f47e15c1b8\")>,\n",
       " <selenium.webdriver.remote.webelement.WebElement (session=\"8e5be921e955c828cbc8c211e4eca58a\", element=\"0b0ec795-602f-4d87-8f26-27cb8f6317a8\")>,\n",
       " <selenium.webdriver.remote.webelement.WebElement (session=\"8e5be921e955c828cbc8c211e4eca58a\", element=\"83c96593-7a4a-483e-b1ce-37e47c42576e\")>,\n",
       " <selenium.webdriver.remote.webelement.WebElement (session=\"8e5be921e955c828cbc8c211e4eca58a\", element=\"9f30c6e9-da34-4da2-bd24-5f7a5d5fb5d1\")>,\n",
       " <selenium.webdriver.remote.webelement.WebElement (session=\"8e5be921e955c828cbc8c211e4eca58a\", element=\"57a44d55-febe-4067-87f3-4af559a9cbb1\")>]"
      ]
     },
     "execution_count": 63,
     "metadata": {},
     "output_type": "execute_result"
    }
   ],
   "source": [
    "# lets extract all the tags having the company names\n",
    "company_names = driver.find_elements_by_xpath(\"//div[@class='mt-7 companyInfo subheading lh16']\")\n",
    "company_names"
   ]
  },
  {
   "cell_type": "code",
   "execution_count": 64,
   "id": "15a5c36c",
   "metadata": {},
   "outputs": [
    {
     "data": {
      "text/plain": [
       "['INTERTRUST GROUP\\n3.7\\n(12 Reviews)',\n",
       " 'Opex Global Services',\n",
       " 'Shell India Markets Private Limited\\n4.1\\n(666 Reviews)',\n",
       " 'AG Technologies pvt Ltd\\n2.3\\n(29 Reviews)',\n",
       " 'AG Technologies pvt Ltd\\n2.3\\n(29 Reviews)',\n",
       " 'Mind Circus Innovation',\n",
       " 'Tech Mahindra Ltd.\\n3.6\\n(11357 Reviews)',\n",
       " 'CGI Information Systems and Management Consultants\\n4.2\\n(74 Reviews)',\n",
       " 'dotSolved India Pvt., Ltd.',\n",
       " 'Myntra Designs Pvt. Ltd.\\n4.1\\n(761 Reviews)']"
      ]
     },
     "execution_count": 64,
     "metadata": {},
     "output_type": "execute_result"
    }
   ],
   "source": [
    "# now we need to extract the data into text format\n",
    "company_title=[]\n",
    "for i in company_names:\n",
    "    company_title.append(i.text)\n",
    "company_title[:10]"
   ]
  },
  {
   "cell_type": "code",
   "execution_count": 65,
   "id": "73442a76",
   "metadata": {},
   "outputs": [
    {
     "data": {
      "text/plain": [
       "[<selenium.webdriver.remote.webelement.WebElement (session=\"8e5be921e955c828cbc8c211e4eca58a\", element=\"11562b8e-102d-4c0d-92c5-f7d8fd2f9348\")>,\n",
       " <selenium.webdriver.remote.webelement.WebElement (session=\"8e5be921e955c828cbc8c211e4eca58a\", element=\"e89ff533-f57c-4b74-8671-9c4573a3ff48\")>,\n",
       " <selenium.webdriver.remote.webelement.WebElement (session=\"8e5be921e955c828cbc8c211e4eca58a\", element=\"db98ad76-6405-43f7-9d17-11a1bb174a97\")>,\n",
       " <selenium.webdriver.remote.webelement.WebElement (session=\"8e5be921e955c828cbc8c211e4eca58a\", element=\"6ce1090a-503f-43f7-a5f8-75ac25e5e495\")>,\n",
       " <selenium.webdriver.remote.webelement.WebElement (session=\"8e5be921e955c828cbc8c211e4eca58a\", element=\"dbde97d3-24b8-41dd-a961-7ae707e09b91\")>,\n",
       " <selenium.webdriver.remote.webelement.WebElement (session=\"8e5be921e955c828cbc8c211e4eca58a\", element=\"4fc1b5b3-65d3-4126-ac2f-7b39ba88707d\")>,\n",
       " <selenium.webdriver.remote.webelement.WebElement (session=\"8e5be921e955c828cbc8c211e4eca58a\", element=\"621d1c05-c6e1-4cc0-9ccf-ec6a6d6946af\")>,\n",
       " <selenium.webdriver.remote.webelement.WebElement (session=\"8e5be921e955c828cbc8c211e4eca58a\", element=\"91380803-76ea-4f60-906d-4032e2b31364\")>,\n",
       " <selenium.webdriver.remote.webelement.WebElement (session=\"8e5be921e955c828cbc8c211e4eca58a\", element=\"d3467695-ece6-471f-99cd-be389ce98d46\")>,\n",
       " <selenium.webdriver.remote.webelement.WebElement (session=\"8e5be921e955c828cbc8c211e4eca58a\", element=\"ffdbc643-575a-4c16-9d74-d17ec79a503d\")>,\n",
       " <selenium.webdriver.remote.webelement.WebElement (session=\"8e5be921e955c828cbc8c211e4eca58a\", element=\"8044fc0a-78cc-4e7a-9cd9-604e9651b57c\")>,\n",
       " <selenium.webdriver.remote.webelement.WebElement (session=\"8e5be921e955c828cbc8c211e4eca58a\", element=\"e0443fdd-9485-4e86-b717-39c12c38d6fc\")>,\n",
       " <selenium.webdriver.remote.webelement.WebElement (session=\"8e5be921e955c828cbc8c211e4eca58a\", element=\"0a1b334e-f097-44b4-baf9-47caa438f7c2\")>,\n",
       " <selenium.webdriver.remote.webelement.WebElement (session=\"8e5be921e955c828cbc8c211e4eca58a\", element=\"5cfea484-3b86-44f3-aa99-82d18e1ecf6b\")>,\n",
       " <selenium.webdriver.remote.webelement.WebElement (session=\"8e5be921e955c828cbc8c211e4eca58a\", element=\"c391cac9-94c6-467e-870e-21f553cf9610\")>,\n",
       " <selenium.webdriver.remote.webelement.WebElement (session=\"8e5be921e955c828cbc8c211e4eca58a\", element=\"399a4e11-dfd1-4503-8550-313c4a3c6c1b\")>,\n",
       " <selenium.webdriver.remote.webelement.WebElement (session=\"8e5be921e955c828cbc8c211e4eca58a\", element=\"3cd6f0b1-b5eb-4e32-8735-45841c7ad515\")>,\n",
       " <selenium.webdriver.remote.webelement.WebElement (session=\"8e5be921e955c828cbc8c211e4eca58a\", element=\"1608a2c7-e092-4167-8bcd-6c9d896027db\")>,\n",
       " <selenium.webdriver.remote.webelement.WebElement (session=\"8e5be921e955c828cbc8c211e4eca58a\", element=\"a57312b9-bad2-43ba-909c-c0675b5edc47\")>,\n",
       " <selenium.webdriver.remote.webelement.WebElement (session=\"8e5be921e955c828cbc8c211e4eca58a\", element=\"199ad554-be31-4127-aa1e-788aa28ef6bf\")>]"
      ]
     },
     "execution_count": 65,
     "metadata": {},
     "output_type": "execute_result"
    }
   ],
   "source": [
    "# lets extract all the tags having the experience\n",
    "experience = driver.find_elements_by_xpath(\"//li[@class='fleft grey-text br2 placeHolderLi experience']\")\n",
    "experience"
   ]
  },
  {
   "cell_type": "code",
   "execution_count": 66,
   "id": "b5e6401f",
   "metadata": {},
   "outputs": [
    {
     "data": {
      "text/plain": [
       "['3-8 Yrs',\n",
       " '5-10 Yrs',\n",
       " '6-9 Yrs',\n",
       " '0-2 Yrs',\n",
       " '0-2 Yrs',\n",
       " '0-1 Yrs',\n",
       " '4-8 Yrs',\n",
       " '2-5 Yrs',\n",
       " '9-13 Yrs',\n",
       " '3-5 Yrs']"
      ]
     },
     "execution_count": 66,
     "metadata": {},
     "output_type": "execute_result"
    }
   ],
   "source": [
    "# now we need to extract the data into text format\n",
    "experience_title=[]\n",
    "for i in experience:\n",
    "    experience_title.append(i.text)\n",
    "experience_title[:10]"
   ]
  },
  {
   "cell_type": "raw",
   "id": "511c19a1",
   "metadata": {},
   "source": []
  },
  {
   "cell_type": "code",
   "execution_count": 67,
   "id": "d52fcade",
   "metadata": {},
   "outputs": [],
   "source": [
    "import pandas as pd\n",
    "jobs=pd.DataFrame({})\n",
    "jobs['Title']=job_title\n",
    "jobs['Location']=location_title\n",
    "jobs['Company Names']=company_title\n",
    "jobs['Experience']=experience_title"
   ]
  },
  {
   "cell_type": "code",
   "execution_count": 68,
   "id": "90f0f0f5",
   "metadata": {},
   "outputs": [
    {
     "data": {
      "text/html": [
       "<div>\n",
       "<style scoped>\n",
       "    .dataframe tbody tr th:only-of-type {\n",
       "        vertical-align: middle;\n",
       "    }\n",
       "\n",
       "    .dataframe tbody tr th {\n",
       "        vertical-align: top;\n",
       "    }\n",
       "\n",
       "    .dataframe thead th {\n",
       "        text-align: right;\n",
       "    }\n",
       "</style>\n",
       "<table border=\"1\" class=\"dataframe\">\n",
       "  <thead>\n",
       "    <tr style=\"text-align: right;\">\n",
       "      <th></th>\n",
       "      <th>Title</th>\n",
       "      <th>Location</th>\n",
       "      <th>Company Names</th>\n",
       "      <th>Experience</th>\n",
       "    </tr>\n",
       "  </thead>\n",
       "  <tbody>\n",
       "    <tr>\n",
       "      <th>0</th>\n",
       "      <td>Business Data Analyst - MIS &amp; Reporting</td>\n",
       "      <td>Mumbai, Bangalore/Bengaluru</td>\n",
       "      <td>INTERTRUST GROUP\\n3.7\\n(12 Reviews)</td>\n",
       "      <td>3-8 Yrs</td>\n",
       "    </tr>\n",
       "    <tr>\n",
       "      <th>1</th>\n",
       "      <td>Senior Data Analyst - Data Lineage</td>\n",
       "      <td>Bangalore/Bengaluru</td>\n",
       "      <td>Opex Global Services</td>\n",
       "      <td>5-10 Yrs</td>\n",
       "    </tr>\n",
       "    <tr>\n",
       "      <th>2</th>\n",
       "      <td>Data Analyst - Informatica MDM</td>\n",
       "      <td>Bangalore/Bengaluru</td>\n",
       "      <td>Shell India Markets Private Limited\\n4.1\\n(666...</td>\n",
       "      <td>6-9 Yrs</td>\n",
       "    </tr>\n",
       "    <tr>\n",
       "      <th>3</th>\n",
       "      <td>Data Analyst</td>\n",
       "      <td>Noida, Kolkata, Hyderabad/Secunderabad, Pune, ...</td>\n",
       "      <td>AG Technologies pvt Ltd\\n2.3\\n(29 Reviews)</td>\n",
       "      <td>0-2 Yrs</td>\n",
       "    </tr>\n",
       "    <tr>\n",
       "      <th>4</th>\n",
       "      <td>Data Analyst</td>\n",
       "      <td>Noida, Kolkata, Hyderabad/Secunderabad, Pune, ...</td>\n",
       "      <td>AG Technologies pvt Ltd\\n2.3\\n(29 Reviews)</td>\n",
       "      <td>0-2 Yrs</td>\n",
       "    </tr>\n",
       "    <tr>\n",
       "      <th>5</th>\n",
       "      <td>Excel VBA Jobs Bangalore | VBA data analyst Jobs</td>\n",
       "      <td>Mysore/Mysuru, Coimbatore, Bangalore/Bengaluru</td>\n",
       "      <td>Mind Circus Innovation</td>\n",
       "      <td>0-1 Yrs</td>\n",
       "    </tr>\n",
       "    <tr>\n",
       "      <th>6</th>\n",
       "      <td>Data Analyst (2positions)//immediate Joiners//...</td>\n",
       "      <td>Bangalore/Bengaluru</td>\n",
       "      <td>Tech Mahindra Ltd.\\n3.6\\n(11357 Reviews)</td>\n",
       "      <td>4-8 Yrs</td>\n",
       "    </tr>\n",
       "    <tr>\n",
       "      <th>7</th>\n",
       "      <td>Business/Data Analyst - SSE/LA</td>\n",
       "      <td>Bangalore/Bengaluru</td>\n",
       "      <td>CGI Information Systems and Management Consult...</td>\n",
       "      <td>2-5 Yrs</td>\n",
       "    </tr>\n",
       "    <tr>\n",
       "      <th>8</th>\n",
       "      <td>Business Data Analyst</td>\n",
       "      <td>Chennai, Bangalore/Bengaluru, Mumbai (All Areas)</td>\n",
       "      <td>dotSolved India Pvt., Ltd.</td>\n",
       "      <td>9-13 Yrs</td>\n",
       "    </tr>\n",
       "    <tr>\n",
       "      <th>9</th>\n",
       "      <td>Data Analyst</td>\n",
       "      <td>Bangalore/Bengaluru</td>\n",
       "      <td>Myntra Designs Pvt. Ltd.\\n4.1\\n(761 Reviews)</td>\n",
       "      <td>3-5 Yrs</td>\n",
       "    </tr>\n",
       "  </tbody>\n",
       "</table>\n",
       "</div>"
      ],
      "text/plain": [
       "                                               Title  \\\n",
       "0            Business Data Analyst - MIS & Reporting   \n",
       "1                 Senior Data Analyst - Data Lineage   \n",
       "2                     Data Analyst - Informatica MDM   \n",
       "3                                       Data Analyst   \n",
       "4                                       Data Analyst   \n",
       "5   Excel VBA Jobs Bangalore | VBA data analyst Jobs   \n",
       "6  Data Analyst (2positions)//immediate Joiners//...   \n",
       "7                     Business/Data Analyst - SSE/LA   \n",
       "8                              Business Data Analyst   \n",
       "9                                       Data Analyst   \n",
       "\n",
       "                                            Location  \\\n",
       "0                        Mumbai, Bangalore/Bengaluru   \n",
       "1                                Bangalore/Bengaluru   \n",
       "2                                Bangalore/Bengaluru   \n",
       "3  Noida, Kolkata, Hyderabad/Secunderabad, Pune, ...   \n",
       "4  Noida, Kolkata, Hyderabad/Secunderabad, Pune, ...   \n",
       "5     Mysore/Mysuru, Coimbatore, Bangalore/Bengaluru   \n",
       "6                                Bangalore/Bengaluru   \n",
       "7                                Bangalore/Bengaluru   \n",
       "8   Chennai, Bangalore/Bengaluru, Mumbai (All Areas)   \n",
       "9                                Bangalore/Bengaluru   \n",
       "\n",
       "                                       Company Names Experience  \n",
       "0                INTERTRUST GROUP\\n3.7\\n(12 Reviews)    3-8 Yrs  \n",
       "1                               Opex Global Services   5-10 Yrs  \n",
       "2  Shell India Markets Private Limited\\n4.1\\n(666...    6-9 Yrs  \n",
       "3         AG Technologies pvt Ltd\\n2.3\\n(29 Reviews)    0-2 Yrs  \n",
       "4         AG Technologies pvt Ltd\\n2.3\\n(29 Reviews)    0-2 Yrs  \n",
       "5                             Mind Circus Innovation    0-1 Yrs  \n",
       "6           Tech Mahindra Ltd.\\n3.6\\n(11357 Reviews)    4-8 Yrs  \n",
       "7  CGI Information Systems and Management Consult...    2-5 Yrs  \n",
       "8                         dotSolved India Pvt., Ltd.   9-13 Yrs  \n",
       "9       Myntra Designs Pvt. Ltd.\\n4.1\\n(761 Reviews)    3-5 Yrs  "
      ]
     },
     "execution_count": 68,
     "metadata": {},
     "output_type": "execute_result"
    }
   ],
   "source": [
    "jobs[:10]"
   ]
  },
  {
   "cell_type": "markdown",
   "id": "43eaba19",
   "metadata": {},
   "source": [
    "Q2: Write a python program to scrape data for “Data Scientist” Job position in \n",
    "“Bangalore” location. You have to scrape the job-title, job-location,\n",
    "company_name, full job-description. You have to scrape first 10 jobs data."
   ]
  },
  {
   "cell_type": "code",
   "execution_count": 69,
   "id": "19f40946",
   "metadata": {},
   "outputs": [],
   "source": [
    "# LETS NOW IMPORT ALL REQUIRED LIBRARIES\n",
    "import selenium\n",
    "import pandas as pd\n",
    "from selenium import webdriver"
   ]
  },
  {
   "cell_type": "code",
   "execution_count": 70,
   "id": "703163e0",
   "metadata": {},
   "outputs": [],
   "source": [
    "url = 'https://www.naukri.com/'\n",
    "driver.get(url)"
   ]
  },
  {
   "cell_type": "code",
   "execution_count": 71,
   "id": "af02c3e7",
   "metadata": {},
   "outputs": [
    {
     "data": {
      "text/plain": [
       "<selenium.webdriver.remote.webelement.WebElement (session=\"8e5be921e955c828cbc8c211e4eca58a\", element=\"3f46c61c-4cd6-4685-9583-4bd58a492753\")>"
      ]
     },
     "execution_count": 71,
     "metadata": {},
     "output_type": "execute_result"
    }
   ],
   "source": [
    "#finding element for job search bar\n",
    "search_job = driver.find_element_by_id(\"qsb-keyword-sugg\")\n",
    "search_job"
   ]
  },
  {
   "cell_type": "code",
   "execution_count": 72,
   "id": "cef44f5f",
   "metadata": {},
   "outputs": [],
   "source": [
    "#write on search bar\n",
    "search_job.send_keys(\"Data Scientist\")"
   ]
  },
  {
   "cell_type": "code",
   "execution_count": 73,
   "id": "5103814b",
   "metadata": {},
   "outputs": [],
   "source": [
    "# finding element for job location bar\n",
    "search_loc = driver.find_element_by_id(\"qsb-location-sugg\")\n",
    "search_loc.send_keys(\"Bangalore\")"
   ]
  },
  {
   "cell_type": "code",
   "execution_count": 74,
   "id": "1389adfc",
   "metadata": {},
   "outputs": [
    {
     "data": {
      "text/plain": [
       "<selenium.webdriver.remote.webelement.WebElement (session=\"8e5be921e955c828cbc8c211e4eca58a\", element=\"cbfe2c98-37c8-48a8-84e8-c31b843411f6\")>"
      ]
     },
     "execution_count": 74,
     "metadata": {},
     "output_type": "execute_result"
    }
   ],
   "source": [
    "# clicking on search using xpath\n",
    "search_btn = driver.find_element_by_xpath(\"//button[@class='btn']\")\n",
    "search_btn"
   ]
  },
  {
   "cell_type": "code",
   "execution_count": 75,
   "id": "7cab3bd2",
   "metadata": {},
   "outputs": [],
   "source": [
    "search_btn = driver.find_element_by_xpath(\"//button[@class='btn']\")\n",
    "search_btn.click()  #for clicking on to the search bar"
   ]
  },
  {
   "cell_type": "code",
   "execution_count": 76,
   "id": "071fa004",
   "metadata": {},
   "outputs": [
    {
     "data": {
      "text/plain": [
       "[<selenium.webdriver.remote.webelement.WebElement (session=\"8e5be921e955c828cbc8c211e4eca58a\", element=\"e6912bd1-1e41-4f34-8c9c-19b3df98a973\")>,\n",
       " <selenium.webdriver.remote.webelement.WebElement (session=\"8e5be921e955c828cbc8c211e4eca58a\", element=\"85f6b481-2fcc-4380-8ceb-a7f509475301\")>,\n",
       " <selenium.webdriver.remote.webelement.WebElement (session=\"8e5be921e955c828cbc8c211e4eca58a\", element=\"8b365249-b2b6-43e2-8262-33652f26e703\")>,\n",
       " <selenium.webdriver.remote.webelement.WebElement (session=\"8e5be921e955c828cbc8c211e4eca58a\", element=\"756ac82b-a756-4629-8766-a03e9984a05b\")>,\n",
       " <selenium.webdriver.remote.webelement.WebElement (session=\"8e5be921e955c828cbc8c211e4eca58a\", element=\"409fe082-afc3-43f1-9907-d14fecb65086\")>,\n",
       " <selenium.webdriver.remote.webelement.WebElement (session=\"8e5be921e955c828cbc8c211e4eca58a\", element=\"298602b3-5379-4d31-8335-99b6f62f1965\")>,\n",
       " <selenium.webdriver.remote.webelement.WebElement (session=\"8e5be921e955c828cbc8c211e4eca58a\", element=\"d46bc948-c902-4eaf-afd6-b24d0115359e\")>,\n",
       " <selenium.webdriver.remote.webelement.WebElement (session=\"8e5be921e955c828cbc8c211e4eca58a\", element=\"3a13f330-0972-4e41-a31b-31277708884c\")>,\n",
       " <selenium.webdriver.remote.webelement.WebElement (session=\"8e5be921e955c828cbc8c211e4eca58a\", element=\"71d94c4e-89f5-4c72-8f70-aa8af13a0fea\")>,\n",
       " <selenium.webdriver.remote.webelement.WebElement (session=\"8e5be921e955c828cbc8c211e4eca58a\", element=\"e7f622b7-5b19-40bb-b2e0-54857cecc90a\")>,\n",
       " <selenium.webdriver.remote.webelement.WebElement (session=\"8e5be921e955c828cbc8c211e4eca58a\", element=\"41dc2c8b-1385-4ac2-850b-00b973540421\")>,\n",
       " <selenium.webdriver.remote.webelement.WebElement (session=\"8e5be921e955c828cbc8c211e4eca58a\", element=\"a86025a2-0dfa-4562-8b62-135ad0cc0497\")>,\n",
       " <selenium.webdriver.remote.webelement.WebElement (session=\"8e5be921e955c828cbc8c211e4eca58a\", element=\"999a98ea-2593-4aa6-b3da-4019e21c2e38\")>,\n",
       " <selenium.webdriver.remote.webelement.WebElement (session=\"8e5be921e955c828cbc8c211e4eca58a\", element=\"5eb7e50b-b458-4128-9bfe-1d4423b42ed7\")>,\n",
       " <selenium.webdriver.remote.webelement.WebElement (session=\"8e5be921e955c828cbc8c211e4eca58a\", element=\"bacc0358-30cd-40f6-9bfe-529302bd73d0\")>,\n",
       " <selenium.webdriver.remote.webelement.WebElement (session=\"8e5be921e955c828cbc8c211e4eca58a\", element=\"a56409a2-9727-4dce-bc40-50dd0e30658f\")>,\n",
       " <selenium.webdriver.remote.webelement.WebElement (session=\"8e5be921e955c828cbc8c211e4eca58a\", element=\"1133b6a1-2b67-47f3-9702-39a10886f0b2\")>,\n",
       " <selenium.webdriver.remote.webelement.WebElement (session=\"8e5be921e955c828cbc8c211e4eca58a\", element=\"c32ec411-dc6d-473c-97d1-a25aefe86b7e\")>,\n",
       " <selenium.webdriver.remote.webelement.WebElement (session=\"8e5be921e955c828cbc8c211e4eca58a\", element=\"b1bb6499-8cd8-42af-83cc-6eb4fed16999\")>,\n",
       " <selenium.webdriver.remote.webelement.WebElement (session=\"8e5be921e955c828cbc8c211e4eca58a\", element=\"8b27330e-3107-400f-a162-13ca9dd43d73\")>]"
      ]
     },
     "execution_count": 76,
     "metadata": {},
     "output_type": "execute_result"
    }
   ],
   "source": [
    "# lets extract all the tags having the job titles\n",
    "titles_tags = driver.find_elements_by_xpath(\"//a[@class='title fw500 ellipsis']\")\n",
    "titles_tags"
   ]
  },
  {
   "cell_type": "code",
   "execution_count": 77,
   "id": "8f4a2e59",
   "metadata": {},
   "outputs": [
    {
     "data": {
      "text/plain": [
       "['Senior Data Scientist',\n",
       " 'Immediate job opening - Senior Data Scientist',\n",
       " 'Senior Data Scientist',\n",
       " 'Senior/ Lead Data Scientist',\n",
       " 'Lead Data Scientist',\n",
       " 'Lead Data Scientist',\n",
       " 'Data analytics / Data scientist intern (work from Home)',\n",
       " 'Data Scientist - IBM Garage',\n",
       " 'Deputy Manager - Datalabs (Data Scientist)',\n",
       " 'Data Scientist']"
      ]
     },
     "execution_count": 77,
     "metadata": {},
     "output_type": "execute_result"
    }
   ],
   "source": [
    "# now we need to extract the data into text format\n",
    "job_title=[]\n",
    "for i in titles_tags:\n",
    "    job_title.append(i.text)\n",
    "job_title[:10]"
   ]
  },
  {
   "cell_type": "code",
   "execution_count": 78,
   "id": "7aeac01d",
   "metadata": {},
   "outputs": [
    {
     "data": {
      "text/plain": [
       "[<selenium.webdriver.remote.webelement.WebElement (session=\"8e5be921e955c828cbc8c211e4eca58a\", element=\"8c1d272e-66c4-45ed-8fe1-0b982e64c745\")>,\n",
       " <selenium.webdriver.remote.webelement.WebElement (session=\"8e5be921e955c828cbc8c211e4eca58a\", element=\"e2db5854-038f-41a0-a2ca-093bdc6e51e9\")>,\n",
       " <selenium.webdriver.remote.webelement.WebElement (session=\"8e5be921e955c828cbc8c211e4eca58a\", element=\"655afc63-b24d-413d-aa87-08859d9590c7\")>,\n",
       " <selenium.webdriver.remote.webelement.WebElement (session=\"8e5be921e955c828cbc8c211e4eca58a\", element=\"c501d4f2-5970-4a5f-b20f-507f713c9f33\")>,\n",
       " <selenium.webdriver.remote.webelement.WebElement (session=\"8e5be921e955c828cbc8c211e4eca58a\", element=\"7f809a30-1224-4f32-a98b-8d45a66fda1c\")>,\n",
       " <selenium.webdriver.remote.webelement.WebElement (session=\"8e5be921e955c828cbc8c211e4eca58a\", element=\"b284d707-7d30-4729-b130-96fa36ecfea4\")>,\n",
       " <selenium.webdriver.remote.webelement.WebElement (session=\"8e5be921e955c828cbc8c211e4eca58a\", element=\"4b4acfd1-7541-42fa-8f7b-25252219e3d7\")>,\n",
       " <selenium.webdriver.remote.webelement.WebElement (session=\"8e5be921e955c828cbc8c211e4eca58a\", element=\"67217e9e-2834-40de-b2d1-1a68ace680dc\")>,\n",
       " <selenium.webdriver.remote.webelement.WebElement (session=\"8e5be921e955c828cbc8c211e4eca58a\", element=\"9ac8a060-bd88-472f-afcc-321bb0a6854b\")>,\n",
       " <selenium.webdriver.remote.webelement.WebElement (session=\"8e5be921e955c828cbc8c211e4eca58a\", element=\"df751ba5-0ff4-4b67-ae37-16fc2f7380b8\")>,\n",
       " <selenium.webdriver.remote.webelement.WebElement (session=\"8e5be921e955c828cbc8c211e4eca58a\", element=\"f92b54b5-c7cc-4db3-8711-dfa7969e86ac\")>,\n",
       " <selenium.webdriver.remote.webelement.WebElement (session=\"8e5be921e955c828cbc8c211e4eca58a\", element=\"d4b3a398-3f58-4bb7-a8f4-a74a6a844714\")>,\n",
       " <selenium.webdriver.remote.webelement.WebElement (session=\"8e5be921e955c828cbc8c211e4eca58a\", element=\"05a8d3a9-7c9c-4fc9-b379-a02f8b1099c6\")>,\n",
       " <selenium.webdriver.remote.webelement.WebElement (session=\"8e5be921e955c828cbc8c211e4eca58a\", element=\"278a54a9-06a4-4401-bb1f-2f9e1adf53a0\")>,\n",
       " <selenium.webdriver.remote.webelement.WebElement (session=\"8e5be921e955c828cbc8c211e4eca58a\", element=\"7462e15b-1877-4982-bc23-287594d17e02\")>,\n",
       " <selenium.webdriver.remote.webelement.WebElement (session=\"8e5be921e955c828cbc8c211e4eca58a\", element=\"ea54b5c5-2741-4716-b631-acf7f39d9f22\")>,\n",
       " <selenium.webdriver.remote.webelement.WebElement (session=\"8e5be921e955c828cbc8c211e4eca58a\", element=\"9874a0c7-1b42-4ad4-849b-a78163171fda\")>,\n",
       " <selenium.webdriver.remote.webelement.WebElement (session=\"8e5be921e955c828cbc8c211e4eca58a\", element=\"77986387-1ed1-4175-bb6c-8caa9cc6830d\")>,\n",
       " <selenium.webdriver.remote.webelement.WebElement (session=\"8e5be921e955c828cbc8c211e4eca58a\", element=\"380f422d-0d48-4947-937f-9366c8b9d566\")>,\n",
       " <selenium.webdriver.remote.webelement.WebElement (session=\"8e5be921e955c828cbc8c211e4eca58a\", element=\"a840506d-6cae-40c9-a52e-d0d49cc97f28\")>]"
      ]
     },
     "execution_count": 78,
     "metadata": {},
     "output_type": "execute_result"
    }
   ],
   "source": [
    "# lets extract all the tags having the experience\n",
    "location = driver.find_elements_by_xpath(\"//li[@class='fleft grey-text br2 placeHolderLi location']/span\")\n",
    "location"
   ]
  },
  {
   "cell_type": "code",
   "execution_count": 79,
   "id": "4cf22e5f",
   "metadata": {},
   "outputs": [
    {
     "data": {
      "text/plain": [
       "['Bangalore/Bengaluru',\n",
       " 'Bangalore/Bengaluru',\n",
       " 'Mumbai, Gurgaon/Gurugram, Bangalore/Bengaluru',\n",
       " 'Bangalore/Bengaluru',\n",
       " 'Bangalore/Bengaluru',\n",
       " 'Gurgaon/Gurugram, Bangalore/Bengaluru, Mumbai (All Areas)',\n",
       " 'Kolkata, Bangalore/Bengaluru, Delhi / NCR',\n",
       " 'Bengaluru/Bangalore',\n",
       " 'Bangalore/Bengaluru',\n",
       " 'Davangere, Bangalore/Bengaluru']"
      ]
     },
     "execution_count": 79,
     "metadata": {},
     "output_type": "execute_result"
    }
   ],
   "source": [
    "# now we need to extract the data into text format\n",
    "location_tags=[]\n",
    "for i in location:\n",
    "    location_tags.append(i.text)\n",
    "location_tags[:10]"
   ]
  },
  {
   "cell_type": "code",
   "execution_count": 80,
   "id": "e44babd6",
   "metadata": {},
   "outputs": [
    {
     "data": {
      "text/plain": [
       "[<selenium.webdriver.remote.webelement.WebElement (session=\"8e5be921e955c828cbc8c211e4eca58a\", element=\"db52e82e-2724-4d41-b79d-2ca86623943a\")>,\n",
       " <selenium.webdriver.remote.webelement.WebElement (session=\"8e5be921e955c828cbc8c211e4eca58a\", element=\"99902267-25ae-49b6-9998-52e02a9fb93b\")>,\n",
       " <selenium.webdriver.remote.webelement.WebElement (session=\"8e5be921e955c828cbc8c211e4eca58a\", element=\"2847a505-0000-4314-9253-46a2e2501dc8\")>,\n",
       " <selenium.webdriver.remote.webelement.WebElement (session=\"8e5be921e955c828cbc8c211e4eca58a\", element=\"9c4afe57-24eb-4478-a054-213709e67d2e\")>,\n",
       " <selenium.webdriver.remote.webelement.WebElement (session=\"8e5be921e955c828cbc8c211e4eca58a\", element=\"e1ee00b7-61ae-4710-aecb-2ea2d5abd3c6\")>,\n",
       " <selenium.webdriver.remote.webelement.WebElement (session=\"8e5be921e955c828cbc8c211e4eca58a\", element=\"13673d5c-d4a3-4607-aee0-b86d71860176\")>,\n",
       " <selenium.webdriver.remote.webelement.WebElement (session=\"8e5be921e955c828cbc8c211e4eca58a\", element=\"fae4f858-f540-4357-bbab-2e97de9c415e\")>,\n",
       " <selenium.webdriver.remote.webelement.WebElement (session=\"8e5be921e955c828cbc8c211e4eca58a\", element=\"1f255769-dd89-4e30-a960-9964d6107504\")>,\n",
       " <selenium.webdriver.remote.webelement.WebElement (session=\"8e5be921e955c828cbc8c211e4eca58a\", element=\"e213b8ec-1ea7-4786-8ea3-3bf86370f921\")>,\n",
       " <selenium.webdriver.remote.webelement.WebElement (session=\"8e5be921e955c828cbc8c211e4eca58a\", element=\"0d9b5a85-ec35-49af-a6f0-c8ca7225c229\")>,\n",
       " <selenium.webdriver.remote.webelement.WebElement (session=\"8e5be921e955c828cbc8c211e4eca58a\", element=\"89ceb597-2ee9-45a3-9c8e-fb300205e242\")>,\n",
       " <selenium.webdriver.remote.webelement.WebElement (session=\"8e5be921e955c828cbc8c211e4eca58a\", element=\"15b15a1f-7a1f-408b-926b-9b25c11cb87e\")>,\n",
       " <selenium.webdriver.remote.webelement.WebElement (session=\"8e5be921e955c828cbc8c211e4eca58a\", element=\"c7d83341-2e4c-488d-8ed5-11aab2c581a8\")>,\n",
       " <selenium.webdriver.remote.webelement.WebElement (session=\"8e5be921e955c828cbc8c211e4eca58a\", element=\"3366c798-6673-4bd4-80f2-d7533fef2cac\")>,\n",
       " <selenium.webdriver.remote.webelement.WebElement (session=\"8e5be921e955c828cbc8c211e4eca58a\", element=\"0f70614a-362f-42af-aedf-bb45f9bfc99c\")>,\n",
       " <selenium.webdriver.remote.webelement.WebElement (session=\"8e5be921e955c828cbc8c211e4eca58a\", element=\"8430b8aa-43cb-4913-be6e-ac76cb14b334\")>,\n",
       " <selenium.webdriver.remote.webelement.WebElement (session=\"8e5be921e955c828cbc8c211e4eca58a\", element=\"bb701e3d-0cd2-4027-8e2f-b4dac349aa6a\")>,\n",
       " <selenium.webdriver.remote.webelement.WebElement (session=\"8e5be921e955c828cbc8c211e4eca58a\", element=\"448abb59-2ca2-4c04-8977-908ffcd43cdf\")>,\n",
       " <selenium.webdriver.remote.webelement.WebElement (session=\"8e5be921e955c828cbc8c211e4eca58a\", element=\"32224536-bd6e-4c3c-a1b6-43417fd6fe1b\")>,\n",
       " <selenium.webdriver.remote.webelement.WebElement (session=\"8e5be921e955c828cbc8c211e4eca58a\", element=\"3ccdfb68-1483-498f-8a20-e43588d2846a\")>]"
      ]
     },
     "execution_count": 80,
     "metadata": {},
     "output_type": "execute_result"
    }
   ],
   "source": [
    "# lets extract all the tags having the company names\n",
    "company_names = driver.find_elements_by_xpath(\"//div[@class='mt-7 companyInfo subheading lh16']\")\n",
    "company_names"
   ]
  },
  {
   "cell_type": "code",
   "execution_count": 81,
   "id": "430410cd",
   "metadata": {},
   "outputs": [
    {
     "data": {
      "text/plain": [
       "['RedBus\\n4.0\\n(85 Reviews)',\n",
       " 'RedBus\\n4.0\\n(85 Reviews)',\n",
       " 'Fractal Analytics\\n3.9\\n(95 Reviews)',\n",
       " 'Superior Group\\n4.6\\n(14 Reviews)',\n",
       " 'FICO\\n3.8\\n(59 Reviews)',\n",
       " 'Fractal Analytics\\n3.9\\n(95 Reviews)',\n",
       " 'TalkValley LLC\\n2.1\\n(2 Reviews)',\n",
       " 'IBM India Pvt. Limited\\n4.0\\n(9853 Reviews)',\n",
       " 'HDFC LIFE INSURANCE COMPANY LIMITED\\n4.0\\n(2799 Reviews)',\n",
       " 'Schneider Electric India Pvt. Ltd.\\n4.2\\n(1396 Reviews)']"
      ]
     },
     "execution_count": 81,
     "metadata": {},
     "output_type": "execute_result"
    }
   ],
   "source": [
    "# now we need to extract the data into text format\n",
    "company_tags=[]\n",
    "for i in company_names:\n",
    "    company_tags.append(i.text)\n",
    "company_tags[:10]"
   ]
  },
  {
   "cell_type": "code",
   "execution_count": 82,
   "id": "15133e37",
   "metadata": {},
   "outputs": [
    {
     "data": {
      "text/plain": [
       "['https://www.naukri.com/job-listings-senior-data-scientist-redbus-in-ibibo-group-private-limited-bangalore-bengaluru-5-to-8-years-090621001584?src=jobsearchDesk&sid=16241947962909265&xp=1&px=1',\n",
       " 'https://www.naukri.com/job-listings-immediate-opening-senior-data-scientist-redbus-in-ibibo-group-private-limited-bangalore-bengaluru-5-to-8-years-140621005528?src=jobsearchDesk&sid=16241947962909265&xp=2&px=1',\n",
       " 'https://www.naukri.com/job-listings-senior-data-scientist-fractal-analytics-ltd-mumbai-gurgaon-gurugram-bangalore-bengaluru-5-to-9-years-140621500966?src=jobsearchDesk&sid=16241947962909265&xp=3&px=1',\n",
       " 'https://www.naukri.com/job-listings-senior-lead-data-scientist-superior-group-bangalore-bengaluru-6-to-11-years-180621500299?src=jobsearchDesk&sid=16241947962909265&xp=4&px=1',\n",
       " 'https://www.naukri.com/job-listings-lead-data-scientist-fico-bangalore-bengaluru-6-to-11-years-090621500701?src=jobsearchDesk&sid=16241947962909265&xp=5&px=1',\n",
       " 'https://www.naukri.com/job-listings-lead-data-scientist-fractal-analytics-pvt-ltd-gurgaon-gurugram-bangalore-bengaluru-mumbai-all-areas-10-to-15-years-110621003012?src=jobsearchDesk&sid=16241947962909265&xp=6&px=1',\n",
       " 'https://www.naukri.com/job-listings-data-analytics-data-scientist-intern-work-from-home-talkvalley-llc-kolkata-bangalore-bengaluru-delhi-ncr-0-to-5-years-050621000128?src=jobsearchDesk&sid=16241947962909265&xp=7&px=1',\n",
       " 'https://www.naukri.com/job-listings-data-scientist-ibm-garage-ibm-india-pvt-limited-bengaluru-bangalore-2-to-6-years-080621904251?src=jobsearchDesk&sid=16241947962909265&xp=8&px=1',\n",
       " 'https://www.naukri.com/job-listings-deputy-manager-datalabs-data-scientist-hdfc-life-insurance-company-limited-bangalore-bengaluru-4-to-6-years-160621004098?src=jobsearchDesk&sid=16241947962909265&xp=9&px=1',\n",
       " 'https://www.naukri.com/job-listings-data-scientist-schneider-electric-india-pvt-ltd-davangere-bangalore-bengaluru-5-to-7-years-180621500793?src=jobsearchDesk&sid=16241947962909265&xp=10&px=1',\n",
       " 'https://www.naukri.com/job-listings-senior-data-scientist-bankbazaar-com-a-a-dukaan-financial-services-pvt-ltd-bangalore-bengaluru-5-to-7-years-040321006895?src=jobsearchDesk&sid=16241947962909265&xp=11&px=1',\n",
       " 'https://www.naukri.com/job-listings-senior-data-scientist-with-python-next-bee-corporation-kolkata-chandigarh-hyderabad-secunderabad-pune-ahmedabad-chennai-bangalore-bengaluru-delhi-ncr-mumbai-all-areas-6-to-10-years-140621002374?src=jobsearchDesk&sid=16241947962909265&xp=12&px=1',\n",
       " 'https://www.naukri.com/job-listings-senior-data-scientist-publicis-groupe-bangalore-bengaluru-2-to-5-years-140621501233?src=jobsearchDesk&sid=16241947962909265&xp=13&px=1',\n",
       " 'https://www.naukri.com/job-listings-staff-data-scientist-machine-learning-bigdata-juniper-networks-india-pvt-ltd-bangalore-bengaluru-7-to-12-years-150621500474?src=jobsearchDesk&sid=16241947962909265&xp=14&px=1',\n",
       " 'https://www.naukri.com/job-listings-data-scientist-machine-learning-bigdata-juniper-networks-india-pvt-ltd-bangalore-bengaluru-5-to-10-years-150621500351?src=jobsearchDesk&sid=16241947962909265&xp=15&px=1',\n",
       " 'https://www.naukri.com/job-listings-data-scientist-visualization-aruba-networks-bangalore-bengaluru-4-to-8-years-090621501101?src=jobsearchDesk&sid=16241947962909265&xp=16&px=1',\n",
       " 'https://www.naukri.com/job-listings-data-scientist-fractal-analytics-ltd-mumbai-gurgaon-gurugram-bangalore-bengaluru-3-to-7-years-070621501457?src=jobsearchDesk&sid=16241947962909265&xp=17&px=1',\n",
       " 'https://www.naukri.com/job-listings-manager-data-scientist-applied-materials-india-private-limited-bangalore-bengaluru-4-to-7-years-160621900835?src=jobsearchDesk&sid=16241947962909265&xp=18&px=1',\n",
       " 'https://www.naukri.com/job-listings-junior-senior-data-scientist-internet-online-iit-bits-nit-e-hireo-global-pvt-ltd-bangalore-bengaluru-10-to-15-years-250820902767?src=jobsearchDesk&sid=16241947962909265&xp=19&px=1',\n",
       " 'https://www.naukri.com/job-listings-lead-data-scientist-publicis-groupe-bangalore-bengaluru-2-to-5-years-170621501677?src=jobsearchDesk&sid=16241947962909265&xp=20&px=1']"
      ]
     },
     "execution_count": 82,
     "metadata": {},
     "output_type": "execute_result"
    }
   ],
   "source": [
    "job_opening_urls=[]\n",
    "\n",
    "url=driver.find_elements_by_xpath(\"//a[@class='title fw500 ellipsis']\")\n",
    "for i in url:\n",
    "    job_opening_urls.append(i.get_attribute('href'))\n",
    "job_opening_urls"
   ]
  },
  {
   "cell_type": "code",
   "execution_count": 83,
   "id": "2730cd36",
   "metadata": {},
   "outputs": [
    {
     "data": {
      "text/plain": [
       "['Job description\\nServe as primary technical lead on all phases of the projects from providing solutioning, experimentation and deployment.\\nWilling to get your hands dirty with data analysis as well as be comfortable delegating tasks to junior members on the project team, thus providing technical guidance and oversight to the overall project.\\nHands-on solutioning within the chosen AI platform to partner with both customer and internal data solution architects.\\nMust Have\\n8 years of experience delivering results from advanced analytics projects; with at least 2 years experience leading a project or large workstream\\nExperience working on data analytics problems in commercial problems space such as pricing, supply chain, marketing or customer experience. Proven track record with building and deploying supervised classification, regression, deep learning and unsupervised clustering models and time series analysis.\\n5 years of Knowledge and or experience with data transformations using SQL, leveraging SAS or SAS Viya platform.\\nStatistical model building with 5 years of experience\\nBasic understanding of machine learning models development in python and leveraging AWS.\\nBachelors Degree in Engineering, Mathematics Analytics, Economics or Business\\nNice to Have\\n5 years of Knowledge and experience with SAS or SAS Viya platform\\nExperience working with remote teams spread across the globe\\nMachine Learning modelling experience\\nPython programming to build ML models\\nAWS or equivalent other cloud based services knowledge SAS EG\\nExperience working in a data analytics COE or in an analytics consulting company\\nRoleTechnical Architect\\nIndustry TypeManagement Consulting\\nFunctional AreaIT Software - DBA, Datawarehousing\\nEmployment TypeFull Time, Permanent\\nRole CategoryProgramming & Design\\nEducation\\nUG :B.Tech/B.E. in Production/Industrial\\nPG :Any Postgraduate in Any Specialization\\nKey Skills\\nSupply chainData analysisSASTime series analysisArtificial IntelligenceConsultingMachine learningData analyticsSQLPython',\n",
       " 'Job description\\nResponsibilities\\nProvide advanced analytical capabilities to support data science initiatives\\nSolves highly complex problems that do not yet have solutions in the research and span much of the Data Science portfolio\\nInfluences the thought process and methodology for other team members\\nJob Requirements\\nSkill seet required\\n6+ years of experience in analytics AND 2 years of programming experience (Python, Java, Scala, Rust, etc.)\\n3 years of experience performing predictive analytics at a large scale enterprise\\n3 years of experience in data science or advanced analytics in industry\\nSQL Experience\\nExperience using multiple data systems and sources (such as Hadoop, Spark, Aster, Teradata, etc.\\nRoleDatabase Architect/Designer\\nIndustry TypeRecruitment / Staffing\\nFunctional AreaIT Software - Application Programming, Maintenance\\nEmployment TypeFull Time, Permanent\\nRole CategoryProgramming & Design\\nEducation\\nUG :Any Graduate in Any Specialization\\nPG :Post Graduation Not Required\\nKey Skills\\nadvanced analyticsdata scienceAnalyticalSCALALeadTeradataPredictive analyticsSQLPython',\n",
       " 'Job description\\nJob Summary\\nThe candidate should be a Cybersecurity Data Scientist with a background in machine learning for cybersecurity applications.\\nHeShe will contribute, provide subject matter expertise in the area of cybersecurity for critical infrastructure systems.\\n\\nResearch, develop, design and implement machine learning algorithms for cyber threat detection in operational technology environments, under limited direction.\\nIdentify data types to enable detection of cyber events.\\nTest and validate developed algorithms on real operational data.\\nIdentify, define, and scope complex data analytics problems in the cybersecurity domain.\\nDevelop cross-domain strategies for increased network security and resiliency of the entire network.\\nRoleTeam Lead/Technical Lead\\nIndustry TypeAnalytics / KPO / Research\\nFunctional AreaIT Software - Network Administration, Security\\nEmployment TypeFull Time, Permanent\\nRole CategoryProgramming & Design\\nEducation\\nUG :B.Tech/B.E. in Computers\\nPG :Post Graduation Not Required\\nKey Skills\\nbig data analyticsArtificial IntelligenceMachine learningAnti money launderingNetwork securitySubject matter expertiseOperationsdigital transformationFraud detectionFICO',\n",
       " 'Job description\\nPosition Description:\\nThe Artificial Intelligence and Machine Learning (AIML) group at Fractal Analytics is actively involved in helping Fortune 500 companies by enabling them to discover how they can leverage their data using advanced and sophisticated AI/ML algorithms for which we are looking for Data Scientists with the capability to work on independent statistical and machine learning research/ projects. If you are a problem solver with a curiosity for exploring new techniques and technologies in AIML space, then we would like to talk with you.\\nJob Responsibilities:\\nAbility to understand a problem statement and implement analytical solutions & techniques independently with independently/proactively/thought-leadership\\nWork with stakeholders throughout the organization to identify opportunities for leveraging company/client data to drive business solutions\\nFast learner: ability to learn and pick up a new language/tool/ platform quickly\\nConceptualize, design, and deliver high-quality solutions and insightful analysis\\nConduct research and prototyping innovations; data and requirements gathering; solution scoping and architecture; consulting clients and client facing teams on advanced statistical and machine learning problems\\nCollaborate and coordinate with different functional teams (engineering and product development) to implement models and monitor outcomes\\nAbility to deliver AIML based solutions around a host of domains and problems, with some of them being: Customer Segmentation & Targeting, Propensity Modeling, Churn Modeling, Lifetime Value Estimation, Forecasting, Recommender Systems, Modeling Response to Incentives, Marketing Mix Optimization, Price Optimization\\nExperience Required:\\nMinimum 10+ years of experience in Machine Learning domain\\nExpert level proficiency in at least one of R and Python\\nAbility to create efficient solutions to complex problems. Strong skills in data-structures and ML algorithms\\nExperience of working on end-to-end data science pipeline: problem scoping, data gathering, EDA, modelling, insights, visualizations, monitoring and maintenance\\nProblem-solving: Ability to break the problem into small parts and applying relevant techniques to drive required outcomes\\nIntermediate to advanced knowledge of machine learning, probability theory, statistics, and algorithms. You will be required to discuss and use various algorithms and approaches on a daily basis\\nWe use regression, Bayesian methods, tree-based learners, SVM, RF, XGBOOST, time series modeling, dimensionality reduction, SEM, GLM, GLMM, clustering, Deep learning etc. on a regular basis. If you know few of them you are good to go\\nGood to Have:\\nExperience in one of the upcoming technologies like deep learning, NLP, image processing, recommender systems\\nExperience of working in on one or more domains:\\nCPG: pricing and promotion analytics, marketing analytics, trade promotions, supply chain management\\nBFSI: cross-sell, up-sell, campaign analytics, treasury analytics, fraud detection\\nHealthcare: medical adherence, medical risk profiling, EHR data, fraud-waste-abuse\\nExperience in working with Linux computing environment and use of command line tools like sed/awk\\nGood grasp on databases including RDBMS, NoSQL, MongoDB etc.\\nRoleAnalytics Manager\\nIndustry TypeMiscellaneous\\nFunctional AreaAnalytics & Business Intelligence\\nEmployment TypeFull Time, Permanent\\nRole CategoryAnalytics & BI\\nEducation\\nUG :Any Graduate in Any Specialization\\nKey Skills\\nRNoSQLArtificial IntelligenceData StructuresGoSupply Chain ManagementMarketing AnalyticsMachine LearningDeep LearningPython',\n",
       " 'Job description\\nWe are a group of tenured professors from Tier-1 business schools in US universities. We teach machine learning and deep learning to master and PhD students. For our efforts with MentorStudents.org, we are looking to hire a team of interns who are interested in learning data science and analyze data under our supervision.\\n\\nHours commitment: at least 42.5 hrs/week\\n\\nDuration of the internship: 3 months\\n\\nRequired skills: Communication skills, Python, and OOP\\n\\nPerks (besides getting paid): Learn from professors who teach machine learning in the US\\n+ internship completion certificate\\n+ endorsement of your candidacy to US companies for a remote job via our placement business unit\\n+ networking (check out https://MentorStudents.org)\\n\\nNext step / TEST for Selection:\\nThis test will help you present your resume better and improve your employability. Hence, it is in your interest to work on this test. Create a tutorial in Google doc on how to create a timeline in Tableau Public. Use events from your resume as events for the timeline. You are encouraged to look at https://public.tableau.com/en-us/gallery for inspiration. Send your Google doc link at jobs [at] mentorstudents [dot] org. Make sure to make the link publicly accessible so that our team can evaluate your work.\\nRoleTrainee\\nIndustry TypeIT Services & Consulting\\nFunctional AreaIT Software - eCommerce, Internet Technologies\\nEmployment TypeFull Time, Freelance/Homebased\\nRole CategoryOther\\nEducation\\nUG :Graduation Not Required\\nKey Skills\\nCommunication SkillsPython\\nJupyter\\nSkills highlighted with ‘‘ are preferred keyskills',\n",
       " 'Job description\\nRoles & Responsibilities\\nDevelop end to end solutions including understanding the business need, aggregate & explore data, build and validate predictive modeling using the Machine Language approaches.\\nDevelopment of API in Python and Node JS environment\\nWork with AI, Business Insights, and InfoSec team to develop the APIs for models.\\nTrack and validate the model effectiveness and feed the learnings to fine-tune the models.\\n\\nCandidate Requirement\\nCandidate must have a background in Statistics/Mathematics/Operations Resources/Economics or Similar Subjects with overall analytical experience of >4 years\\nMust have hands on experience in Model Development or Validation for 2 years\\nCandidate must have experience in the latest ensemble techniques like Gradient boosting, Deep Learning, Random Forest, Optimization etc\\nMust be proficient in Python and Node JS. Knowledge of SQL is an add-on\\n\\n\\n\\nHDFC Life does not charge applicants any recruitment fee or a deposit in return for job offers. HDFC Life does not authorize any third party to make employment offers, refer or place candidates, for a fee charged to the applicant.\\nRoleOther\\nIndustry TypeInsurance\\nFunctional AreaAnalytics & Business Intelligence\\nEmployment TypeFull Time, Permanent\\nRole CategoryOther\\nEducation\\nUG :Any Graduate in Any Specialization\\nKey Skills\\nPredictive ModelingArtificial IntelligenceNode.JsStatisticsDeep LearningRandom ForestSQLModel DevelopmentData ScienceEnsembleJavascriptdata scientistPython',\n",
       " 'Job description\\nJob Role: Data Scientist\\nExperience Education:\\nAround 5-7 years in similar position.\\nUnder graduate degree: B.Tech/B.E. - Any Specialization, B.Sc - Any Specialization, Maths, Statistics\\nPost Graduate: M.Tech - Any Specialization, MS/M.Sc(Science) - Any Specialization, Maths, Statistics\\nSUMMARY OF JOB:\\nWork on advanced data analysis to provide insights to different types of users\\nConduct predictive analysis to create various what-if scenarios to drive Supply Chain Planning and strategy\\nDesign, develop, and industrialize solutions based on Machine Learning in the domain of Supply Chain (demand sensing, prediction of shortages, inventory simulations for components and finished goods, supply chain risk analysis and prediction, customer sentiment analysis, proactive defect avoidance in manufacturing, predictive maintenance, manufacturing efficiency improvement, )\\nApply appropriate techniques, such as exploratory data analysis, regression, bootstrapping, trees, cluster analysis, survival analysis\\nSuggest relevant analytics use cases and promote analytics usage in Global Supply Chain organization. Coach users to deploy basic analytics. Share knowledge and experience on most recent analytics technics in the Analytics community.\\nDesign, Develop and code scripts\\nTo cleanse, integrate and evaluate large datasets from multiple disparate sources including unstructured data\\nTo embed Machine learning algorithms and automate processes.\\nConstruct predictive ML models, algorithms and probability engines; verifies model and algorithm effectiveness based on actual results.\\nProduces actionable compelling recommendations by interpreting, exploring, identifying and communicating insights discovered within complex data sets.\\nDevelop required process documentation and adhere to security compliance\\nPrimary Skills:\\nBachelor or Masters degree in Engineering, Mathematics, or Statistics preferred.\\nStrong working experience on developing predictive machine learning models i.e. Classification and Regularized Regression and/or Segmentation/Clustering is a must.\\nExposure and thorough theoretical and practical understanding of at least one Machine Learning technique such as Logistic Regression, Random Forest, Gradient Boosting Machines (GBM/XGB), Neural Networks, SVMs.\\nStrong coding skills in R/Python must and other open source softwares such Spark MLLIB, Hive, Scala, etc. preferred.\\nExposure on Discrete Choice Modeling, Design of Experiments, Associative Mining, Latent Class Modeling, Time Series forecasting is added advantage.\\nAbility to learn and continuously adapt to ever changing space of ML algorithms and technologies and apply in practical business problems.\\nAbility to independently drive innovative programs work in an agile mode.\\nAbility to consult as a subject matter expert on complex client projects.\\nDomain expertise in Supply Chain Planning Strategy,\\nPreferred Knowledge:\\nExperience building Python, R and Spark programs that run in highly-parallelized infrastructures.\\nStatistical tools such as R, Matlab, Minitab, Advanced Excel including VBA and PowerPoint skills\\nExperience in data modelling for both SQL and NoSQL frameworks is desirable\\nExperience working with streaming data architectures using tools like Kafka, Spark or Flink.\\nFamiliar with big data environment\\nESSENTIAL FUNCTIONS:\\nBe the go to person for the data science projects in Supply Chain domain\\nConstruct predictive ML models, algorithms and probability engines; verifies model and algorithm effectiveness based on actual results.\\nMentors junior members of the team about best practices of algorithm design, scripting language and solution documentation.\\nQualifications\\nJob Role: Data Scientist\\nExperience Education:\\nAround 5-7 years in similar position.\\nUnder graduate degree: B.Tech/B.E. - Any Specialization, B.Sc - Any Specialization, Maths, Statistics\\nPost Graduate: M.Tech - Any Specialization, MS/M.Sc(Science) - Any Specialization, Maths, Statistics\\nSUMMARY OF JOB:\\nWork on advanced data analysis to provide insights to different types of users\\nConduct predictive analysis to create various what-if scenarios to drive Supply Chain Planning and strategy\\nDesign, develop, and industrialize solutions based on Machine Learning in the domain of Supply Chain (demand sensing, prediction of shortages, inventory simulations for components and finished goods, supply chain risk analysis and prediction, customer sentiment analysis, proactive defect avoidance in manufacturing, predictive maintenance, manufacturing efficiency improvement, )\\nApply appropriate techniques, such as exploratory data analysis, regression, bootstrapping, trees, cluster analysis, survival analysis\\nSuggest relevant analytics use cases and promote analytics usage in Global Supply Chain organization. Coach users to deploy basic analytics. Share knowledge and experience on most recent analytics technics in the Analytics community.\\nDesign, Develop and code scripts\\nTo cleanse, integrate and evaluate large datasets from multiple disparate sources including unstructured data\\nTo embed Machine learning algorithms and automate processes.\\nConstruct predictive ML models, algorithms and probability engines; verifies model and algorithm effectiveness based on actual results.\\nProduces actionable compelling recommendations by interpreting, exploring, identifying and communicating insights discovered within complex data sets.\\nDevelop required process documentation and adhere to security compliance\\nPrimary Skills:\\nBachelor or Masters degree in Engineering, Mathematics, or Statistics preferred.\\nStrong working experience on developing predictive machine learning models i.e. Classification and Regularized Regression and/or Segmentation/Clustering is a must.\\nExposure and thorough theoretical and practical understanding of at least one Machine Learning technique such as Logistic Regression, Random Forest, Gradient Boosting Machines (GBM/XGB), Neural Networks, SVMs.\\nStrong coding skills in R/Python must and other open source softwares such Spark MLLIB, Hive, Scala, etc. preferred.\\nExposure on Discrete Choice Modeling, Design of Experiments, Associative Mining, Latent Class Modeling, Time Series forecasting is added advantage.\\nAbility to learn and continuously adapt to ever changing space of ML algorithms and technologies and apply in practical business problems.\\nAbility to independently drive innovative programs work in an agile mode.\\nAbility to consult as a subject matter expert on complex client projects.\\nDomain expertise in Supply Chain Planning Strategy,\\nPreferred Knowledge:\\nExperience building Python, R and Spark programs that run in highly-parallelized infrastructures.\\nStatistical tools such as R, Matlab, Minitab, Advanced Excel including VBA and PowerPoint skills\\nExperience in data modelling for both SQL and NoSQL frameworks is desirable\\nExperience working with streaming data architectures using tools like Kafka, Spark or Flink.\\nFamiliar with big data environment\\nESSENTIAL FUNCTIONS:\\nBe the go to person for the data science projects in Supply Chain domain\\nConstruct predictive ML models, algorithms and probability engines; verifies model and algorithm effectiveness based on actual results.\\nMentors junior members of the team about best practices of algorithm design, scripting language and solution documentation.\\n\\n \\n\\n  RoleSoftware Developer\\nIndustry TypeElectrical Equipment\\nFunctional AreaIT Software - Other\\nEmployment TypeFull Time, Permanent\\nRole CategoryProgramming & Design\\nEducation\\nUG :Any Graduate in Any Specialization\\nPG :Post Graduation Not Required\\nKey Skills\\nSupply chainMiningLogistic regressionData analysisNeural networksMachine learningForecastingMATLABAnalyticsSQL',\n",
       " 'Job description\\nSenior Data Scientist\\nBangalore\\nDescription\\nPrimary focus will be in applying data mining techniques, doing statistical analysis, build recommendation systems to drastically improve on our cross-selling capabilities, build credit score models that will help us assess customer risk, and build systems for automated fraud detection\\nProvide analytic support to the business teams by understanding the context and formulate/execute appropriate analytical approach to address the situation\\nThis will be a high visibility role that will entail working closely with the Senior Management and several functions. The team member should independently manage end-to-end partner communication\\n\\nCore Responsibilities\\n\\nDevelopment and maintenance of statistical / quantitative models and segmentations\\nAbility to manage & develop analytic solutions to deliver on complex projects\\nUsing insights from data, to improve cross-sell capabilities to BankBazaars past customers & visitors; How to increase customer LTV (Lifetime value) and repeat purchase behavior\\nMeasure & own the business impact of work, Set and manage partner expectations, manage timeliness around project priorities\\nCan coach/mentor junior team members on theory/practical applications of relevant tools & techniques, significantly contribute to the standardization and best practices\\n\\nQualifications\\n6+ years of analytics experience\\nPreferable to have Masters in a numerate subject such as Mathematics, Operational Research, Business Administration, Economics etc. from a premier institute / Bachelors with a track record of performance that demonstrates the ability of understanding numbers\\nAdded advantage: Have worked in any of the following domain: (Credit Cards, Retail Bank, Mortgage, Lending/Liability Product)\\nProficient in formulating analytical methodology, identifying trends and patterns with data\\nExpertise in advanced statistics including hypothesis testing, regression, segmentation, text mining and neural networks, optimization and forecasting\\nProficient in tools like MS Excel, PowerPoint and programming language such as R, SAS, SQL, Python; familiarity with PowerBI is an added advantage\\nGood to have expertise in Adobe Site Catalyst/Omniture/Google Analytics\\nSolid communication skills: Demonstrated ability to explain complex technical issues to both technical and non-technical audiences, Capability to act as an owner & deliver results\\nRoleBusiness Analyst\\nIndustry TypeFinTech / Payments\\nFunctional AreaAnalytics & Business Intelligence\\nEmployment TypeFull Time, Permanent\\nRole CategoryAnalytics & BI\\nEducation\\nUG :Any Graduate in Any Specialization\\nKey Skills\\nSegmentationSASData MiningText MiningSQLBusiness AnalysisData ScienceRData ScientistStatistical ModelingData ModelingQuantitativePythonPredictive Analytics',\n",
       " 'Job description\\nRoles and Responsibilities:-\\n\\nHands-on with Strong experience in advanced Python programming and web-services framework.\\nParticipate in plan, develop, build, unit/integration test phases of software development\\nParticipate in design, code reviews with other developers and test-case review with testers.\\nPerform unit/module testing of software to find errors and confirm programs meet specifications\\nWrite and maintain documentation to describe program development, logic, coding, testing changes, and corrections\\nFollow-up and close issues entered into the defect-tracking system\\nVisualize, articulate and break down complex testing areas into simpler parts\\nInitiate and influence implementation & test strategies across teams\\nShould perform impact analysis of software and recommend effective solution.\\nGood understanding of Data Structures and Oops Concepts\\nMinimum 4-8 years of relevant experience in Business Analysis, Product Management, Software Development using Python.\\nCandidates must be patient, meticulous and logical in their work and capable of prioritising tasks. Good problem solving, analytical, administrative, organisational, communication and interpersonal skills are also important. Must be a good team-player.\\nStrong knowledge of building RESTful APIs using Python .\\nIntegration of user-facing elements with server-side logic.\\nUnderstanding of the threading limitations of Python, and multi-process architecture\\nDesign and implementation of low-latency, high-availability, and performance applications\\nFamiliarity with Agile Methodology, Test-Driven Development, and software design patterns for implementing Data Drive Models Experience in Databases MySQL, Redshift, DynamoDB, Redis Good with some of the tools like NumPy, SciPy, Pandas, SciKit-Learn, Keras, PyTorch, TensorFlow etc\\nExperience in using services like S3, PySpark, AWS Data Pipeline Experience in Machine Learning Algorithms, statistics: Regression, Simulation, Scenario Analysis, Modelling, Clustering, Decision Trees, Neural Networks, NLP, etc.\\nInterested candidate Please do fill form:              https://nextbee.wufoo.com/forms/candidate-prescreeninginterview/\\n\\nNote: We are Looking for Immediate joiners/ short notice less than 10-15 days.\\n\\nRoleData Scientist\\nIndustry TypeSoftware Product\\nFunctional AreaIT Software - Other\\nEmployment TypeFull Time, Permanent\\nRole CategoryNot mentioned\\nEducation\\nUG :Any Graduate in Any Specialization\\nKey Skills\\nMySQLMachine LearningPython\\nPytorchTensorflowScipyNLPImpact AnalysisNeural NetworksKerasScikit-Learn\\nSkills highlighted with ‘‘ are preferred keyskills',\n",
       " 'Job description\\nWork with stakeholders throughout the organization to identify opportunities for leveraging company data to drive business solutions.\\nDevelop a use case roadmap for a problem area or capability for the business. Frame the business problem into a Data Science or modelling problem.\\nExtract data from multiple sources. Mine and analyze data from company databases to drive optimization and improvement of product.\\nWork as the data strategist, identifying and integrating new datasets that can be leveraged through our product capabilities and work closely with Client Support, Product Management and Engineering team to strategize and execute the development of data products.\\nProcessing, cleansing, and verifying the integrity of data used for analysis. Undertake preprocessing of structured and unstructured data.\\nData mining using state-of-the-art methods. Selecting features, building and optimizing classifiers using ML/AI techniques.\\nPresent technical solutions to internal and external stakeholders in a formal setting, effectively communicating key concepts and functionalities\\nEffectively manage client expectations via direct and frequent communication with high quality results\\nDevelop front end deliverable solutions for stakeholders utilizing BI tools such as Tableau, Cognos, Excel, or similar\\nWork on multiple assignments concurrently, while handling priorities and challenges and meeting timelines basis project plan and roadmap.\\nBuild self-service tools for error detection, diagnosis, and predictive metrics.\\nBuild project plans, maintain to-do list, organize work, follow coding ethics, and have an eye for detail\\n\\n\\n\\n\\nQualifications\\nBachelor s or Master s degree in a quantitative discipline (e.g., data science, statistics, economics, mathematics, computer science) or significant relevant coursework/experience\\n4 years profession\\nRoleProduct Manager\\nIndustry TypeAdvertising & Marketing\\nFunctional AreaIT Software - Application Programming, Maintenance\\nEmployment TypeFull Time, Permanent\\nRole CategoryProgramming & Design\\nEducation\\nUG :B.Tech/B.E. in Computers\\nPG :M.Tech in Computers\\nKey Skills\\nComputer scienceWeb analyticsCodingAnalyticalCognosData miningBusiness intelligenceDigital marketingBusiness solutionsSQL',\n",
       " 'Job description\\nWe are looking for a Data Scientist to join our growing data science team. This hire will be responsible for working with Juniper s network domain specialist helping extend AI/ML across the Juniper portfolio in developing the machine learning models. As a data scientist you will collaborate with product managers and domain specialists to identify use-impacting real customer problems, use your deep DS/ML knowledge to develop data-driven solution with terabytes data, and work closely with data engineers to implement and scale the models in production. . The ideal candidate will be self-directed and comfortable supporting the data needs of multiple systems and products.\\nQualifications/Requirements:\\nMasters or PhD in Computer Science, Electrical Engineering, Statistics, Applied Math or equivalent fields with strong mathematical background\\nExcellent understanding of machine learning techniques and algorithms, including clustering, anomaly detection, optimization, neural network etc\\n3+ years experiences building data science-driven solutions including data collection, feature selection, model training, post-deployment validation\\nStrong hands-on coding skills (preferably in Python) processing large-scale data set and developing machine learning models\\nFamiliar with one or more machine learning or statistical modeling tools such as Numpy, ScikitLearn, MLlib, Tensorflow\\nGood team worker with excellent interpersonal skills written, verbal and presentation\\nDesired Experience:\\nExperience with AWS, S3, Flink, Spark, Kafka, ElasticSearch\\nKnowledge and experience with NLP technology\\nPrevious work in a start-up environment\\nResponsibilities:\\nResearch and develop statistical learning models for data analysis\\nCollaborate with product management and engineering departments to understand company needs and devise possible solutions\\nKeep up-to-date with newest technology trends\\nCommunicate results and ideas to key decision makers\\nImplement new statistical or other mathematical methodologies as needed for specific models or analysis\\nOptimize joint development efforts through appropriate database use and project design\\nRoleTeam Lead/Technical Lead\\nIndustry TypeHardware & Networking\\nFunctional AreaIT Software - Application Programming, Maintenance\\nEmployment TypeFull Time, Permanent\\nRole CategoryProgramming & Design\\nEducation\\nUG :B.Tech/B.E. in Computers\\nPG :Post Graduation Not Required\\nKey Skills\\nProduct managementComputer scienceremediationData analysisNetworkingdata scienceCodingMachine learningData collectionPython',\n",
       " 'Job description\\nResponsibilities\\nDeveloping telemetry software to connect Junos devices to the cloud\\nFast prototyping and laying the SW foundation for product solutions\\nMoving prototype solutions to a production cloud multitenant SaaS solution\\nBuild the infrastructure required for optimal extraction, transformation, and loading of data from a wide variety of data sources\\nBuild analytics tools that utilize the data pipeline to provide significant insights into customer acquisition, operational efficiency and other key business performance metrics.\\nWork with partners including the Executive, Product, Data and Design teams to assist with data-related technical issues and support their data infrastructure needs.\\nCreate data tools for analytics and data scientist team members that assist them in building and optimizing our product into an innovative industry leader.\\nWork with data and analytics specialists to strive for greater functionality in our data systems.\\nQualification and Desired Experiences\\nMaster in Computer Science, Electrical Engineering, Statistics, Applied Math or equivalent fields with strong mathematical background\\n3+ years experiences building data pipelines for data science-driven solutions\\nStrong hands-on coding skills (preferably in Python) processing large-scale data set and developing machine learning model\\nFamiliar with one or more machine learning or statistical modeling tools such as Numpy, ScikitLearn, MLlib, Tensorflow\\nGood team worker with excellent interpersonal skills written, verbal and presentation\\nCreate and maintain optimal data pipeline architecture,\\nAssemble large, sophisticated data sets that meet functional / non-functional business requirements.\\nIdentify, design, and implement internal process improvements: automating manual processes, optimizing data delivery, re-designing infrastructure for greater scalability, etc.\\nExperience with AWS, S3, Flink, Spark, Kafka, Elastic Search\\nPrevious work in a start-up environment\\n3+ years experiences building data pipelines for data science-driven solutions\\nMaster in Computer Science, Electrical Engineering, Statistics, Applied Math or equivalent fields with strong mathematical background\\nWe are looking for a candidate with 5+ years of experience in a Data Engineer role, who has attained a Graduate degree in Computer Science, Statistics, Informatics, Information Systems or another quantitative field. They should also have experience using the following software/tools:\\nExperience with big data tools: Hadoop, Spark, Kafka, etc.\\nExperience with relational SQL and NoSQL databases, including Postgres and Cassandra.\\nExperience with data pipeline and workflow management tools: Azkaban, Luigi, Airflow, etc.\\nExperience with AWS cloud services: EC2, EMR, RDS, Redshift\\nExperience with stream-processing systems: Storm, Spark-Streaming, etc.\\nExperience with object-oriented/object function scripting languages: Python, Java, C++, Scala, etc.\\nStrong hands-on coding skills (preferably in Python) processing large-scale data set and developing machine learning model\\nFamiliar with one or more machine learning or statistical modeling tools such as Numpy, ScikitLearn, MLlib, Tensorflow\\nAdvanced working SQL knowledge and experience working with relational databases, query authoring (SQL) as well as working familiarity with a variety of databases.\\nExperience building and optimizing big data data pipelines, architectures and data sets.\\nExperience performing root cause analysis on internal and external data and processes to answer specific business questions and find opportunities for improvement.\\nStrong analytic skills related to working with unstructured datasets.\\nBuild processes supporting data transformation, data structures, metadata, dependency and workload management.\\nA successful history of manipulating, processing and extracting value from large disconnected datasets.\\nProven understanding of message queuing, stream processing, and highly scalable big data data stores.\\nStrong project management and interpersonal skills.\\nExperience supporting and working with multi-functional teams in a multidimensional environment.\\nExperience with big data tools: Hadoop, Spark, Kafka, etc.\\nExperience with relational SQL and NoSQL databases, including Postgres and Cassandra.\\nExperience with data pipeline and workflow management tools: Azkaban, Luigi, Airflow, etc.\\nExperience with AWS cloud services: EC2, EMR, RDS, Redshift\\nExperience with stream-processing systems: Storm, Spark-Streaming, etc.\\nExperience with object-oriented/object function scripting languages: Python, Java, C++, Scala, etc.\\nRoleDatawarehousing Technician\\nIndustry TypeHardware & Networking\\nFunctional AreaIT Software - Application Programming, Maintenance\\nEmployment TypeFull Time, Permanent\\nRole CategorySystem Design/Implementation/ERP/CRM\\nEducation\\nUG :B.Tech/B.E. in Computers\\nPG :Post Graduation Not Required\\nKey Skills\\nComputer scienceC++NetworkingCodingProject managementMachine learningData structuresAnalyticsSQLPython',\n",
       " 'Job description\\nWhat Youll Do\\nCreate captivating and meaningful data visualizations and UI/UX partnerships that help our customers intuitively grasp their network operational data\\nVisualize raw data, aggregated data, insight data, and machine learning model data\\nPrototype visualizations for purposes of data exploration, showcasing, and product use\\nCollaborate closely with data scientists and domain experts\\nInterface with UX team to translate prototype visualizations into web applications\\nAssist UI frontend team with correct implementation of prototypes\\nExtract, transform load raw data for the purpose of data exploration and visualization\\n\\nOur Minimum Requirements for this role are\\nM.S. in Computer Science or another data-oriented discipline, with a specialization in data visualization\\nProven track record in translating raw data into memorable interactive visualizations\\nIndustry experience building interactive data visualizations in web-based products\\nSolid data science toolbox, machine learning practitioner\\nFluent in Python, familiar with Apache Spark for wrangling big data\\nExperience with software engineering best practices\\nAdditional preferred skills\\nAngular, ReactJS\\nProficiency in big data computing infrastructure (Kubernetes / Hadoop ecosystem)\\nRoleBio/Pharma Informatics-Associate/Scientist\\nIndustry TypeHardware & Networking\\nFunctional AreaMedical, Healthcare, R&D, Pharmaceuticals, Biotechnology\\nEmployment TypeFull Time, Permanent\\nRole CategoryR&D\\nEducation\\nUG :Any Graduate in Any Specialization\\nPG :Post Graduation Not Required\\nKey Skills\\nComputer scienceSANPrototypeNetworkingWANMachine learningLANdata visualizationOperationsPython',\n",
       " 'Job description\\nJob Responsibilities\\nAbility to understand a problem statement and implement analytical solutions techniques independently with independently / proactively / thought-leadership.\\nWork with stakeholders throughout the organization to identify opportunities for leveraging company/client data to drive business solutions.\\nFast learner: ability to learn and pick up a new language/tool/ platform quickly.\\nConceptualize, design, and deliver high-quality solutions and insightful analysis.\\nConduct research and prototyping innovations; data and requirements gathering; solution scoping and architecture; consulting clients and client facing teams on advanced statistical and machine learning problems.\\nCollaborate and Coordinate with different functional teams(engineering and product development) to implement models and monitor outcomes.\\nAbility to deliver AIML based solutions around a host of domains and problems, with some of them being: Customer Segmentation Targeting, Propensity Modeling, Churn Modeling, Lifetime Value Estimation, Forecasting, Recommender Systems, Modeling Response to Incentives, Marketing Mix Optimization, Price Optimization\\nExperience Required:\\nExpert level proficiency in at least one of R and Python.\\nAbility to create efficient solutions to complex problems. Strong skills in data-structures and ML algorithms.\\nExperience of working on end-to-end data science pipeline: problem scoping, data gathering, EDA, modelling, insights, visualizations, monitoring and maintenance.\\nProblem-solving: Ability to break the problem into small parts and applying relevant techniques to drive required outcomes.\\nIntermediate to advanced knowledge of machine learning, probability theory, statistics, and algorithms. You will be required to discuss and use various algorithms and approaches on a daily basis.\\nWe use regression, Bayesian methods, tree-based learners, SVM, RF, XGBOOST, time series modeling, dimensionality reduction, SEM, GLM, GLMM, clustering, Deep learning etc. on a regular basis. If you know few of them you are good to go.\\nGood to Have:\\nExperience in one of the upcoming technologies like deep learning, NLP, image processing, recommender systems\\nExperience of working in on one or more domains:\\nCPG: pricing and promotion analytics, marketing analytics, trade promotions, supply chain management\\nBFSI: cross-sell, up-sell, campaign analytics, treasury analytics, fraud detection\\nHealthcare: medical adherence, medical risk profiling, EHR data, fraud-waste-abuse\\nExperience in working with Linux computing environment and use of command line tools like sed/awk\\nGood grasp on databases including RDBMS, NoSQL, MongoDB etc.\\n\\n\\n  RoleResearch Scientist\\nIndustry TypeManagement Consulting\\nFunctional AreaMedical, Healthcare, R&D, Pharmaceuticals, Biotechnology\\nEmployment TypeFull Time, Permanent\\nRole CategoryR&D\\nEducation\\nUG :Any Graduate in Any Specialization\\nPG :Any Postgraduate in Any Specialization\\nKey Skills\\nSupply chain managementLinuxRFRDBMSBfsiConsultingData structuresHealthcareSEMPython',\n",
       " 'Job description\\nSkills/ Requirements:-\\n\\n- Minimum 3 - 15 years of data scientist experience and/or PhD in statistics/signal processing/machine learning.\\n\\n- Expert knowledge of an analysis tool such as R, SAS, Matlab, or Mathematica.\\n\\n- Ability to write code in at least one scripting language, preferably Python.\\n\\n- Excellent communication skills : can articulate experiment goals and methodologies clearly and communicate insights in an easily accessible way to the team.\\n\\n- Experience with Python, Hadoop, Machine Learning, Big Data\\n\\n- Excellent project management skills : ability to drive rapid execution without losing quality\\n\\nRole :\\n\\n- Analyze a large collection of location and motion sensor data to separate signal from noise and tease out driver behavior.\\n\\n- Correlate location-based trends and events with other known exogenous factors to develop new models of a complex system.\\n\\n- Create A/B experiments, work with engineers to implement them, and interpret their results.\\n\\n- Architect our data warehousing strategy.\\n\\nFew more points :\\n\\n- Passion for answering difficult questions with and deriving insights from data.\\n\\n- Ability to prototype algorithms and demonstrate gains on real data.\\n\\n- Prior experience with driving, social and/or risk-related applications.\\n\\n- Experience with big data tools (Hadoop, Hive, MapReduce) a plus.\\n\\nEducation - Tier 1 University ( IIT / IIIT / IISc / NIT / BITS etc. ) only\\nRoleData Analyst\\nIndustry TypeIT Services & Consulting\\nFunctional AreaAnalytics & Business Intelligence\\nEmployment TypeFull Time, Permanent\\nRole CategoryAnalytics & BI\\nEducation\\nUG :B.Tech/B.E. in Computers\\nPG :MBA/PGDM in Information Technology\\nDoctorate :Doctorate Not Required\\nKey Skills\\nSASData ScientistBig DataData WarehousingStatisticsMachine LearningAnalytics',\n",
       " 'Job description\\nJob Description\\nWhat you will enjoy:\\nThis position in the Data Science team under the Digital Experience organization. We drive the first mile of the customer experience through personalization of offers and content. We are currently on the lookout for a smart, highly driven data scientist. You will be part of a team that is focused on driving results by utilizing the latest Machine / Deep Learning approaches especially developing advanced recommendation engines. The incumbent will be responsible for planning and driving ML delivery projects.\\nThe incumbent is also expected to partner with various stakeholders, bring scientific rigor to develop and deliver high quality models and business results to our clients. She / He also must have excellent verbal and written communication skills and be comfortable working in an entrepreneurial, startup environment within a larger company We use everything a data scientist loves like: GIT, Python, Java, AWS, deep and shallow learning, supervised / unsupervised / semi-supervised approaches. We have access to both unstructured and proprietary data that covers close to 100% of the U.S consumer base.\\nWhat you will do:\\nDesign machine learning/deep learning approaches to address real business problems with a keen eye on business metrics\\nGuiding the junior members of the team to identify the right approaches and analysis to define and solve the business problem team\\nDesign standardized approaches that reduce time to model development and insight generation\\nPrioritizing, planning and delivering data science projects to create business impact while setting a high bar for scientific rigor\\nDeveloping high-performance algorithms for precision targeting, testing and implementing these algorithms in scalable, product-ready code; Interacting with other teams to define interfaces and understanding and resolving dependencies.\\nWork with the engineering team to deploy, validate, monitor and improve the model performance as required\\nDrive engagement with different stakeholders and grow the team to take on more projects\\nLearning and implementing the latest approaches in Data Science\\nWhy we are looking for you:\\nExtensive knowledge of Machine Learning / Deep Learning approaches and the underlying algorithms / Math\\nPrior experience in managing a team of data scientists\\nTech Stack: Python, PySpark, Big Data tech, Docker, Kubernetes\\nExperience with AWS technologies is a plus.\\nGood written and spoken communication skills, team player.\\nStrong analytic thought process and ability to interpret findings\\nAbility to work on multiple assignments concurrently\\nIn addition, the candidate should have strong business acumen, and interpersonal and communication skills, yet also be able to work independently.\\nHe/she should be able to communicate findings and the way techniques work in a manner that all stakeholders, both technical and non-technical, will understand\\nQualifications\\nMS in Computer Science or related field with 8+ years of relevant experience.\\nRoleTeam Lead/Technical Lead\\nIndustry TypeAdvertising & Marketing\\nFunctional AreaIT Software - Application Programming, Maintenance\\nEmployment TypeFull Time, Permanent\\nRole CategoryProgramming & Design\\nEducation\\nUG :Any Graduate in Any Specialization\\nPG :Post Graduation Not Required\\nKey Skills\\nComputer sciencedeep learningGITdata scienceMachine learningmodel developmentCustomer experiencebig dataAWSPython']"
      ]
     },
     "execution_count": 83,
     "metadata": {},
     "output_type": "execute_result"
    }
   ],
   "source": [
    "job_descr=[]\n",
    "for i in job_opening_urls:\n",
    "    driver.get(i)\n",
    "    descr_full = driver.find_elements_by_xpath(\"//section[@class='job-desc']\")\n",
    "    for i in descr_full:\n",
    "        job_descr.append(i.text)\n",
    "job_descr"
   ]
  },
  {
   "cell_type": "raw",
   "id": "9517b308",
   "metadata": {},
   "source": []
  },
  {
   "cell_type": "raw",
   "id": "bd1fb712",
   "metadata": {},
   "source": []
  },
  {
   "cell_type": "raw",
   "id": "4846983b",
   "metadata": {},
   "source": []
  },
  {
   "cell_type": "code",
   "execution_count": 84,
   "id": "0278697a",
   "metadata": {},
   "outputs": [],
   "source": [
    "import pandas as pd\n",
    "jobs=pd.DataFrame({})\n",
    "jobs['Title']=job_title\n",
    "jobs['Location']=location_tags\n",
    "jobs['company names']=company_tags"
   ]
  },
  {
   "cell_type": "code",
   "execution_count": 85,
   "id": "ade3a3c8",
   "metadata": {},
   "outputs": [
    {
     "data": {
      "text/html": [
       "<div>\n",
       "<style scoped>\n",
       "    .dataframe tbody tr th:only-of-type {\n",
       "        vertical-align: middle;\n",
       "    }\n",
       "\n",
       "    .dataframe tbody tr th {\n",
       "        vertical-align: top;\n",
       "    }\n",
       "\n",
       "    .dataframe thead th {\n",
       "        text-align: right;\n",
       "    }\n",
       "</style>\n",
       "<table border=\"1\" class=\"dataframe\">\n",
       "  <thead>\n",
       "    <tr style=\"text-align: right;\">\n",
       "      <th></th>\n",
       "      <th>Title</th>\n",
       "      <th>Location</th>\n",
       "      <th>company names</th>\n",
       "    </tr>\n",
       "  </thead>\n",
       "  <tbody>\n",
       "    <tr>\n",
       "      <th>0</th>\n",
       "      <td>Senior Data Scientist</td>\n",
       "      <td>Bangalore/Bengaluru</td>\n",
       "      <td>RedBus\\n4.0\\n(85 Reviews)</td>\n",
       "    </tr>\n",
       "    <tr>\n",
       "      <th>1</th>\n",
       "      <td>Immediate job opening - Senior Data Scientist</td>\n",
       "      <td>Bangalore/Bengaluru</td>\n",
       "      <td>RedBus\\n4.0\\n(85 Reviews)</td>\n",
       "    </tr>\n",
       "    <tr>\n",
       "      <th>2</th>\n",
       "      <td>Senior Data Scientist</td>\n",
       "      <td>Mumbai, Gurgaon/Gurugram, Bangalore/Bengaluru</td>\n",
       "      <td>Fractal Analytics\\n3.9\\n(95 Reviews)</td>\n",
       "    </tr>\n",
       "    <tr>\n",
       "      <th>3</th>\n",
       "      <td>Senior/ Lead Data Scientist</td>\n",
       "      <td>Bangalore/Bengaluru</td>\n",
       "      <td>Superior Group\\n4.6\\n(14 Reviews)</td>\n",
       "    </tr>\n",
       "    <tr>\n",
       "      <th>4</th>\n",
       "      <td>Lead Data Scientist</td>\n",
       "      <td>Bangalore/Bengaluru</td>\n",
       "      <td>FICO\\n3.8\\n(59 Reviews)</td>\n",
       "    </tr>\n",
       "    <tr>\n",
       "      <th>5</th>\n",
       "      <td>Lead Data Scientist</td>\n",
       "      <td>Gurgaon/Gurugram, Bangalore/Bengaluru, Mumbai ...</td>\n",
       "      <td>Fractal Analytics\\n3.9\\n(95 Reviews)</td>\n",
       "    </tr>\n",
       "    <tr>\n",
       "      <th>6</th>\n",
       "      <td>Data analytics / Data scientist intern (work f...</td>\n",
       "      <td>Kolkata, Bangalore/Bengaluru, Delhi / NCR</td>\n",
       "      <td>TalkValley LLC\\n2.1\\n(2 Reviews)</td>\n",
       "    </tr>\n",
       "    <tr>\n",
       "      <th>7</th>\n",
       "      <td>Data Scientist - IBM Garage</td>\n",
       "      <td>Bengaluru/Bangalore</td>\n",
       "      <td>IBM India Pvt. Limited\\n4.0\\n(9853 Reviews)</td>\n",
       "    </tr>\n",
       "    <tr>\n",
       "      <th>8</th>\n",
       "      <td>Deputy Manager - Datalabs (Data Scientist)</td>\n",
       "      <td>Bangalore/Bengaluru</td>\n",
       "      <td>HDFC LIFE INSURANCE COMPANY LIMITED\\n4.0\\n(279...</td>\n",
       "    </tr>\n",
       "    <tr>\n",
       "      <th>9</th>\n",
       "      <td>Data Scientist</td>\n",
       "      <td>Davangere, Bangalore/Bengaluru</td>\n",
       "      <td>Schneider Electric India Pvt. Ltd.\\n4.2\\n(1396...</td>\n",
       "    </tr>\n",
       "  </tbody>\n",
       "</table>\n",
       "</div>"
      ],
      "text/plain": [
       "                                               Title  \\\n",
       "0                              Senior Data Scientist   \n",
       "1      Immediate job opening - Senior Data Scientist   \n",
       "2                              Senior Data Scientist   \n",
       "3                        Senior/ Lead Data Scientist   \n",
       "4                                Lead Data Scientist   \n",
       "5                                Lead Data Scientist   \n",
       "6  Data analytics / Data scientist intern (work f...   \n",
       "7                        Data Scientist - IBM Garage   \n",
       "8         Deputy Manager - Datalabs (Data Scientist)   \n",
       "9                                     Data Scientist   \n",
       "\n",
       "                                            Location  \\\n",
       "0                                Bangalore/Bengaluru   \n",
       "1                                Bangalore/Bengaluru   \n",
       "2      Mumbai, Gurgaon/Gurugram, Bangalore/Bengaluru   \n",
       "3                                Bangalore/Bengaluru   \n",
       "4                                Bangalore/Bengaluru   \n",
       "5  Gurgaon/Gurugram, Bangalore/Bengaluru, Mumbai ...   \n",
       "6          Kolkata, Bangalore/Bengaluru, Delhi / NCR   \n",
       "7                                Bengaluru/Bangalore   \n",
       "8                                Bangalore/Bengaluru   \n",
       "9                     Davangere, Bangalore/Bengaluru   \n",
       "\n",
       "                                       company names  \n",
       "0                          RedBus\\n4.0\\n(85 Reviews)  \n",
       "1                          RedBus\\n4.0\\n(85 Reviews)  \n",
       "2               Fractal Analytics\\n3.9\\n(95 Reviews)  \n",
       "3                  Superior Group\\n4.6\\n(14 Reviews)  \n",
       "4                            FICO\\n3.8\\n(59 Reviews)  \n",
       "5               Fractal Analytics\\n3.9\\n(95 Reviews)  \n",
       "6                   TalkValley LLC\\n2.1\\n(2 Reviews)  \n",
       "7        IBM India Pvt. Limited\\n4.0\\n(9853 Reviews)  \n",
       "8  HDFC LIFE INSURANCE COMPANY LIMITED\\n4.0\\n(279...  \n",
       "9  Schneider Electric India Pvt. Ltd.\\n4.2\\n(1396...  "
      ]
     },
     "execution_count": 85,
     "metadata": {},
     "output_type": "execute_result"
    }
   ],
   "source": [
    "jobs[:10]"
   ]
  },
  {
   "cell_type": "markdown",
   "id": "8b1f8121",
   "metadata": {},
   "source": [
    "Q3: In this question you have to scrape data using the filters available on the \n",
    "webpage as shown below:"
   ]
  },
  {
   "cell_type": "code",
   "execution_count": 86,
   "id": "a1940aa3",
   "metadata": {},
   "outputs": [],
   "source": [
    "# LETS NOW IMPORT ALL REQUIRED LIBRARIES\n",
    "import selenium\n",
    "import pandas as pd\n",
    "from selenium import webdriver"
   ]
  },
  {
   "cell_type": "code",
   "execution_count": 87,
   "id": "32cc430f",
   "metadata": {},
   "outputs": [],
   "source": [
    "driver = webdriver.Chrome(\"chromedriver.exe\")"
   ]
  },
  {
   "cell_type": "code",
   "execution_count": 88,
   "id": "40692e8c",
   "metadata": {},
   "outputs": [],
   "source": [
    "url = 'https://www.naukri.com/'\n",
    "driver.get(url)"
   ]
  },
  {
   "cell_type": "code",
   "execution_count": 89,
   "id": "f2135a4e",
   "metadata": {},
   "outputs": [
    {
     "data": {
      "text/plain": [
       "<selenium.webdriver.remote.webelement.WebElement (session=\"0086cf1bb96f9c672e9108c6279ef8ec\", element=\"5bf461f7-a20c-426e-a957-dae2fed874af\")>"
      ]
     },
     "execution_count": 89,
     "metadata": {},
     "output_type": "execute_result"
    }
   ],
   "source": [
    "#finding element for job search bar\n",
    "search_job = driver.find_element_by_id(\"qsb-keyword-sugg\")\n",
    "search_job"
   ]
  },
  {
   "cell_type": "code",
   "execution_count": 90,
   "id": "dda5f79c",
   "metadata": {},
   "outputs": [],
   "source": [
    "#write on search bar\n",
    "search_job.send_keys(\"Data Scientist\")"
   ]
  },
  {
   "cell_type": "code",
   "execution_count": 91,
   "id": "a3e5df57",
   "metadata": {},
   "outputs": [],
   "source": [
    "# finding element for job location bar\n",
    "search_loc = driver.find_element_by_id(\"qsb-location-sugg\")\n",
    "search_loc.send_keys(\"Delhi/NCR\")"
   ]
  },
  {
   "cell_type": "code",
   "execution_count": 92,
   "id": "18a3b921",
   "metadata": {},
   "outputs": [],
   "source": [
    "# clicking on search using xpath\n",
    "search_btn = driver.find_element_by_xpath(\"//button[@class='btn']\")\n",
    "search_btn.click()"
   ]
  },
  {
   "cell_type": "code",
   "execution_count": 93,
   "id": "022aa05e",
   "metadata": {},
   "outputs": [
    {
     "data": {
      "text/plain": [
       "[<selenium.webdriver.remote.webelement.WebElement (session=\"0086cf1bb96f9c672e9108c6279ef8ec\", element=\"89a96f50-b276-44e6-9f12-6ea64fd88620\")>,\n",
       " <selenium.webdriver.remote.webelement.WebElement (session=\"0086cf1bb96f9c672e9108c6279ef8ec\", element=\"5bcc8300-2e6c-4415-a914-f1fe133117e3\")>,\n",
       " <selenium.webdriver.remote.webelement.WebElement (session=\"0086cf1bb96f9c672e9108c6279ef8ec\", element=\"03405301-0cab-4053-934e-b3d15563d135\")>,\n",
       " <selenium.webdriver.remote.webelement.WebElement (session=\"0086cf1bb96f9c672e9108c6279ef8ec\", element=\"17f3abd6-74db-4d2f-acdf-a5dd7494aff0\")>,\n",
       " <selenium.webdriver.remote.webelement.WebElement (session=\"0086cf1bb96f9c672e9108c6279ef8ec\", element=\"64db92ce-bb9d-431b-981b-2c9d1e29b593\")>,\n",
       " <selenium.webdriver.remote.webelement.WebElement (session=\"0086cf1bb96f9c672e9108c6279ef8ec\", element=\"ade6fc86-5dce-4651-babd-c5f225f8d3d1\")>,\n",
       " <selenium.webdriver.remote.webelement.WebElement (session=\"0086cf1bb96f9c672e9108c6279ef8ec\", element=\"471423eb-e280-4726-9c3c-85bbb7f2ced6\")>,\n",
       " <selenium.webdriver.remote.webelement.WebElement (session=\"0086cf1bb96f9c672e9108c6279ef8ec\", element=\"6a68b52a-6af7-45ad-a6b7-bba4fea1ebc7\")>,\n",
       " <selenium.webdriver.remote.webelement.WebElement (session=\"0086cf1bb96f9c672e9108c6279ef8ec\", element=\"a4b016de-a094-4d92-b28f-4bdcc99a379a\")>,\n",
       " <selenium.webdriver.remote.webelement.WebElement (session=\"0086cf1bb96f9c672e9108c6279ef8ec\", element=\"78dcd8bd-3487-467e-875b-8a3d54e2f609\")>,\n",
       " <selenium.webdriver.remote.webelement.WebElement (session=\"0086cf1bb96f9c672e9108c6279ef8ec\", element=\"8ff0ca12-a682-4be7-b684-7be90ef39d54\")>,\n",
       " <selenium.webdriver.remote.webelement.WebElement (session=\"0086cf1bb96f9c672e9108c6279ef8ec\", element=\"af02de69-2cd1-4d76-88aa-900a1cd83138\")>,\n",
       " <selenium.webdriver.remote.webelement.WebElement (session=\"0086cf1bb96f9c672e9108c6279ef8ec\", element=\"b09ca444-4301-4546-80ac-c73fdd118c28\")>,\n",
       " <selenium.webdriver.remote.webelement.WebElement (session=\"0086cf1bb96f9c672e9108c6279ef8ec\", element=\"93675205-1d9c-4a70-b5cd-40bbe841dbc9\")>,\n",
       " <selenium.webdriver.remote.webelement.WebElement (session=\"0086cf1bb96f9c672e9108c6279ef8ec\", element=\"c67c8f3b-bf0e-4f72-855c-8e437067f4ec\")>,\n",
       " <selenium.webdriver.remote.webelement.WebElement (session=\"0086cf1bb96f9c672e9108c6279ef8ec\", element=\"d1887abc-a6bc-4ab5-9f6f-91af46ac75cc\")>,\n",
       " <selenium.webdriver.remote.webelement.WebElement (session=\"0086cf1bb96f9c672e9108c6279ef8ec\", element=\"aa0caeb6-5670-482d-ae87-9998bb69bff3\")>,\n",
       " <selenium.webdriver.remote.webelement.WebElement (session=\"0086cf1bb96f9c672e9108c6279ef8ec\", element=\"414441a2-69a4-4a5d-b3d7-eaacf0890b44\")>,\n",
       " <selenium.webdriver.remote.webelement.WebElement (session=\"0086cf1bb96f9c672e9108c6279ef8ec\", element=\"35fffc40-773f-4b0a-a3e2-778a61a3bc99\")>,\n",
       " <selenium.webdriver.remote.webelement.WebElement (session=\"0086cf1bb96f9c672e9108c6279ef8ec\", element=\"065aca84-929e-4961-9aca-8467f7d6b17c\")>]"
      ]
     },
     "execution_count": 93,
     "metadata": {},
     "output_type": "execute_result"
    }
   ],
   "source": [
    "# lets extract all the tags having the job titles\n",
    "titles_tags = driver.find_elements_by_xpath(\"//a[@class='title fw500 ellipsis']\")\n",
    "titles_tags"
   ]
  },
  {
   "cell_type": "code",
   "execution_count": 94,
   "id": "5e30e4d1",
   "metadata": {},
   "outputs": [
    {
     "data": {
      "text/plain": [
       "['Senior Quality Assurance Engineer/Lead Engineer - SQL',\n",
       " 'Senior Software Developer',\n",
       " 'SEO Expert',\n",
       " 'Software Application Developer',\n",
       " 'Search Engine Optimization Expert',\n",
       " 'WordPress/PHP developer',\n",
       " 'HTML Expert / WEB Designer',\n",
       " 'Photoshop Designers',\n",
       " 'Quality Analyst - Manual/Automation Testing',\n",
       " 'Social Media Strategist']"
      ]
     },
     "execution_count": 94,
     "metadata": {},
     "output_type": "execute_result"
    }
   ],
   "source": [
    "# now we need to extract the data into text format\n",
    "job_title=[]\n",
    "for i in titles_tags:\n",
    "    job_title.append(i.text)\n",
    "job_title[:10]"
   ]
  },
  {
   "cell_type": "code",
   "execution_count": 95,
   "id": "252c9d56",
   "metadata": {},
   "outputs": [
    {
     "data": {
      "text/plain": [
       "[<selenium.webdriver.remote.webelement.WebElement (session=\"0086cf1bb96f9c672e9108c6279ef8ec\", element=\"d75418ca-2f2b-4e50-87a3-6dbb7f567631\")>,\n",
       " <selenium.webdriver.remote.webelement.WebElement (session=\"0086cf1bb96f9c672e9108c6279ef8ec\", element=\"2f472c7d-1742-4b82-b456-0bdcd0d8b345\")>,\n",
       " <selenium.webdriver.remote.webelement.WebElement (session=\"0086cf1bb96f9c672e9108c6279ef8ec\", element=\"15fe6ca3-975f-4fe9-9430-50fe01c2af7f\")>,\n",
       " <selenium.webdriver.remote.webelement.WebElement (session=\"0086cf1bb96f9c672e9108c6279ef8ec\", element=\"edbbee8d-c100-4daa-9460-fbbe938affe5\")>,\n",
       " <selenium.webdriver.remote.webelement.WebElement (session=\"0086cf1bb96f9c672e9108c6279ef8ec\", element=\"6d80f609-7458-40d5-b7f9-97e31d4f4797\")>,\n",
       " <selenium.webdriver.remote.webelement.WebElement (session=\"0086cf1bb96f9c672e9108c6279ef8ec\", element=\"2f0776d9-f54d-4ec0-94c7-4f0c0fd3c718\")>,\n",
       " <selenium.webdriver.remote.webelement.WebElement (session=\"0086cf1bb96f9c672e9108c6279ef8ec\", element=\"2b39616f-63be-448f-9305-efacab1f6560\")>,\n",
       " <selenium.webdriver.remote.webelement.WebElement (session=\"0086cf1bb96f9c672e9108c6279ef8ec\", element=\"47430e64-9ebe-48ac-821f-9876ccf93dba\")>,\n",
       " <selenium.webdriver.remote.webelement.WebElement (session=\"0086cf1bb96f9c672e9108c6279ef8ec\", element=\"435d76bf-b1c4-4202-9871-6bc8b7b4361f\")>,\n",
       " <selenium.webdriver.remote.webelement.WebElement (session=\"0086cf1bb96f9c672e9108c6279ef8ec\", element=\"b9100234-7599-4866-b830-3ab9ad7dd693\")>,\n",
       " <selenium.webdriver.remote.webelement.WebElement (session=\"0086cf1bb96f9c672e9108c6279ef8ec\", element=\"dd020fee-4386-4fb6-9dba-87e83ed89c7a\")>,\n",
       " <selenium.webdriver.remote.webelement.WebElement (session=\"0086cf1bb96f9c672e9108c6279ef8ec\", element=\"75ad3595-b465-41db-8227-d83a63f73aa7\")>,\n",
       " <selenium.webdriver.remote.webelement.WebElement (session=\"0086cf1bb96f9c672e9108c6279ef8ec\", element=\"3ef2b6dd-f6be-40fb-b459-cfc38f6bceab\")>,\n",
       " <selenium.webdriver.remote.webelement.WebElement (session=\"0086cf1bb96f9c672e9108c6279ef8ec\", element=\"260de60f-dc2d-4be2-9356-5f57d873790b\")>,\n",
       " <selenium.webdriver.remote.webelement.WebElement (session=\"0086cf1bb96f9c672e9108c6279ef8ec\", element=\"e3492734-907b-4b2e-a370-93f4987e3313\")>,\n",
       " <selenium.webdriver.remote.webelement.WebElement (session=\"0086cf1bb96f9c672e9108c6279ef8ec\", element=\"8b876590-21f4-4eb0-8016-3bcfdff310f0\")>,\n",
       " <selenium.webdriver.remote.webelement.WebElement (session=\"0086cf1bb96f9c672e9108c6279ef8ec\", element=\"08851e18-7810-4e16-8d9e-418c4a225d7a\")>,\n",
       " <selenium.webdriver.remote.webelement.WebElement (session=\"0086cf1bb96f9c672e9108c6279ef8ec\", element=\"69eaf877-442f-400d-b972-16bb9b1e7b81\")>,\n",
       " <selenium.webdriver.remote.webelement.WebElement (session=\"0086cf1bb96f9c672e9108c6279ef8ec\", element=\"e2619534-fb8f-45cf-ab2d-095c6d3488b9\")>,\n",
       " <selenium.webdriver.remote.webelement.WebElement (session=\"0086cf1bb96f9c672e9108c6279ef8ec\", element=\"71c6d0f0-e719-4b4f-b97d-b5f6e89fdef3\")>]"
      ]
     },
     "execution_count": 95,
     "metadata": {},
     "output_type": "execute_result"
    }
   ],
   "source": [
    "# lets extract all the tags having the company names\n",
    "company_names = driver.find_elements_by_xpath(\"//div[@class='mt-7 companyInfo subheading lh16']\")\n",
    "company_names"
   ]
  },
  {
   "cell_type": "code",
   "execution_count": 96,
   "id": "80f9e872",
   "metadata": {},
   "outputs": [
    {
     "data": {
      "text/plain": [
       "['MedTrail Technologies\\n2.7\\n(10 Reviews)',\n",
       " 'Pinga Solutions\\n3.0\\n(18 Reviews)',\n",
       " 'Akrsk.com',\n",
       " 'Odyssey India Ltd\\n3.2\\n(24 Reviews)',\n",
       " 'Nine Digital',\n",
       " 'IT Monteur',\n",
       " 'Akrsk.com',\n",
       " 'Dimension India Networks (P) Ltd\\n3.7\\n(91 Reviews)',\n",
       " 'Huquo Consulting Pvt. Ltd',\n",
       " 'Nine Digital']"
      ]
     },
     "execution_count": 96,
     "metadata": {},
     "output_type": "execute_result"
    }
   ],
   "source": [
    "# now we need to extract the data into text format\n",
    "company_tags=[]\n",
    "for i in company_names:\n",
    "    company_tags.append(i.text)\n",
    "company_tags[:10]"
   ]
  },
  {
   "cell_type": "code",
   "execution_count": 97,
   "id": "cec03ab8",
   "metadata": {},
   "outputs": [
    {
     "data": {
      "text/plain": [
       "[<selenium.webdriver.remote.webelement.WebElement (session=\"0086cf1bb96f9c672e9108c6279ef8ec\", element=\"7c72f941-743d-4d80-a678-d17b1aa75c38\")>,\n",
       " <selenium.webdriver.remote.webelement.WebElement (session=\"0086cf1bb96f9c672e9108c6279ef8ec\", element=\"8c1c2066-0aa0-40db-a616-d8a81a96642e\")>,\n",
       " <selenium.webdriver.remote.webelement.WebElement (session=\"0086cf1bb96f9c672e9108c6279ef8ec\", element=\"fe4b8a77-3cc5-4ba2-92ef-2848028ea91b\")>,\n",
       " <selenium.webdriver.remote.webelement.WebElement (session=\"0086cf1bb96f9c672e9108c6279ef8ec\", element=\"6f6420f0-e963-4c76-828f-7baa3948d3d2\")>,\n",
       " <selenium.webdriver.remote.webelement.WebElement (session=\"0086cf1bb96f9c672e9108c6279ef8ec\", element=\"906d4427-499b-4e78-b63c-318559d26a19\")>,\n",
       " <selenium.webdriver.remote.webelement.WebElement (session=\"0086cf1bb96f9c672e9108c6279ef8ec\", element=\"5c7fcc4a-e89d-41c2-b300-12283f359f70\")>,\n",
       " <selenium.webdriver.remote.webelement.WebElement (session=\"0086cf1bb96f9c672e9108c6279ef8ec\", element=\"ff4c4815-1e5a-49c8-940a-35a9ec9b9faf\")>,\n",
       " <selenium.webdriver.remote.webelement.WebElement (session=\"0086cf1bb96f9c672e9108c6279ef8ec\", element=\"98343965-104b-4fb0-9754-07d7f94837ef\")>,\n",
       " <selenium.webdriver.remote.webelement.WebElement (session=\"0086cf1bb96f9c672e9108c6279ef8ec\", element=\"c64df571-d690-4938-adee-2ea0d06783c6\")>,\n",
       " <selenium.webdriver.remote.webelement.WebElement (session=\"0086cf1bb96f9c672e9108c6279ef8ec\", element=\"00b49ef6-03de-4fb6-a5fb-c115a3b1c947\")>,\n",
       " <selenium.webdriver.remote.webelement.WebElement (session=\"0086cf1bb96f9c672e9108c6279ef8ec\", element=\"d9f584bb-da7b-43ca-a320-0223c4f55cd0\")>,\n",
       " <selenium.webdriver.remote.webelement.WebElement (session=\"0086cf1bb96f9c672e9108c6279ef8ec\", element=\"4f311921-a33f-454c-b635-3837782f7e88\")>,\n",
       " <selenium.webdriver.remote.webelement.WebElement (session=\"0086cf1bb96f9c672e9108c6279ef8ec\", element=\"95656eb4-f9d5-4cc1-b8de-4d1717e3ea02\")>,\n",
       " <selenium.webdriver.remote.webelement.WebElement (session=\"0086cf1bb96f9c672e9108c6279ef8ec\", element=\"f8cd205f-4e17-4596-b7a5-de2c244f9615\")>,\n",
       " <selenium.webdriver.remote.webelement.WebElement (session=\"0086cf1bb96f9c672e9108c6279ef8ec\", element=\"cca48a6c-ab63-4f64-9376-e7ce140607cf\")>,\n",
       " <selenium.webdriver.remote.webelement.WebElement (session=\"0086cf1bb96f9c672e9108c6279ef8ec\", element=\"c7cdb8a8-203e-4727-94f7-4653ad9ad884\")>,\n",
       " <selenium.webdriver.remote.webelement.WebElement (session=\"0086cf1bb96f9c672e9108c6279ef8ec\", element=\"d876e6a9-eb5b-456e-8308-119b06faf514\")>,\n",
       " <selenium.webdriver.remote.webelement.WebElement (session=\"0086cf1bb96f9c672e9108c6279ef8ec\", element=\"f13d7d24-8e08-4f08-a5f5-9f21e11207b0\")>,\n",
       " <selenium.webdriver.remote.webelement.WebElement (session=\"0086cf1bb96f9c672e9108c6279ef8ec\", element=\"04c28752-93f8-407a-9fdc-fde6f69a9bb2\")>,\n",
       " <selenium.webdriver.remote.webelement.WebElement (session=\"0086cf1bb96f9c672e9108c6279ef8ec\", element=\"0b360966-4947-4374-9c4b-2a982a6c1b54\")>]"
      ]
     },
     "execution_count": 97,
     "metadata": {},
     "output_type": "execute_result"
    }
   ],
   "source": [
    "# lets extract all the tags having the experience\n",
    "experience = driver.find_elements_by_xpath(\"//li[@class='fleft grey-text br2 placeHolderLi experience']\")\n",
    "experience"
   ]
  },
  {
   "cell_type": "code",
   "execution_count": 98,
   "id": "92e3dda8",
   "metadata": {},
   "outputs": [
    {
     "data": {
      "text/plain": [
       "['4-8 Yrs',\n",
       " '3-8 Yrs',\n",
       " '1-3 Yrs',\n",
       " '2-4 Yrs',\n",
       " '2-3 Yrs',\n",
       " '1-2 Yrs',\n",
       " '1-5 Yrs',\n",
       " '0-3 Yrs',\n",
       " '3-6 Yrs',\n",
       " '2-3 Yrs']"
      ]
     },
     "execution_count": 98,
     "metadata": {},
     "output_type": "execute_result"
    }
   ],
   "source": [
    "# now we need to extract the data into text format\n",
    "experience_title=[]\n",
    "for i in experience:\n",
    "    experience_title.append(i.text)\n",
    "experience_title[:10]"
   ]
  },
  {
   "cell_type": "code",
   "execution_count": 99,
   "id": "d069ec46",
   "metadata": {},
   "outputs": [
    {
     "data": {
      "text/plain": [
       "<selenium.webdriver.remote.webelement.WebElement (session=\"0086cf1bb96f9c672e9108c6279ef8ec\", element=\"fe4cfdcf-3af1-4926-928e-9560604567c6\")>"
      ]
     },
     "execution_count": 99,
     "metadata": {},
     "output_type": "execute_result"
    }
   ],
   "source": [
    "# lets extract all the tags having the experience\n",
    "url=driver.find_element_by_xpath('//div[@class=\"mt-8 chckBoxCont\"]')\n",
    "url"
   ]
  },
  {
   "cell_type": "code",
   "execution_count": 100,
   "id": "a18c0d6d",
   "metadata": {},
   "outputs": [
    {
     "name": "stdout",
     "output_type": "stream",
     "text": [
      "Delhi / NCR\n",
      "(3678)\n",
      "Delhi / NCR\n",
      "(3678)\n",
      "Delhi / NCR\n",
      "(3678)\n",
      "Delhi / NCR\n",
      "(3678)\n",
      "Delhi / NCR\n",
      "(3678)\n",
      "Delhi / NCR\n",
      "(3678)\n",
      "Delhi / NCR\n",
      "(3678)\n",
      "Delhi / NCR\n",
      "(3678)\n",
      "Delhi / NCR\n",
      "(3678)\n",
      "Delhi / NCR\n",
      "(3678)\n"
     ]
    }
   ],
   "source": [
    "location=url.text\n",
    "for i in location[:10]:\n",
    "    print(location)"
   ]
  },
  {
   "cell_type": "code",
   "execution_count": 101,
   "id": "b304b933",
   "metadata": {},
   "outputs": [],
   "source": [
    "import pandas as pd\n",
    "jobs=pd.DataFrame({})\n",
    "jobs['Title']=job_title\n",
    "jobs['Location']=location\n",
    "jobs['company names']=company_tags\n",
    "jobs['experience']=experience_title"
   ]
  },
  {
   "cell_type": "code",
   "execution_count": 102,
   "id": "bc3c93ec",
   "metadata": {},
   "outputs": [
    {
     "data": {
      "text/html": [
       "<div>\n",
       "<style scoped>\n",
       "    .dataframe tbody tr th:only-of-type {\n",
       "        vertical-align: middle;\n",
       "    }\n",
       "\n",
       "    .dataframe tbody tr th {\n",
       "        vertical-align: top;\n",
       "    }\n",
       "\n",
       "    .dataframe thead th {\n",
       "        text-align: right;\n",
       "    }\n",
       "</style>\n",
       "<table border=\"1\" class=\"dataframe\">\n",
       "  <thead>\n",
       "    <tr style=\"text-align: right;\">\n",
       "      <th></th>\n",
       "      <th>Title</th>\n",
       "      <th>Location</th>\n",
       "      <th>company names</th>\n",
       "      <th>experience</th>\n",
       "    </tr>\n",
       "  </thead>\n",
       "  <tbody>\n",
       "    <tr>\n",
       "      <th>0</th>\n",
       "      <td>Senior Quality Assurance Engineer/Lead Enginee...</td>\n",
       "      <td>Delhi / NCR\\n(3678)</td>\n",
       "      <td>MedTrail Technologies\\n2.7\\n(10 Reviews)</td>\n",
       "      <td>4-8 Yrs</td>\n",
       "    </tr>\n",
       "    <tr>\n",
       "      <th>1</th>\n",
       "      <td>Senior Software Developer</td>\n",
       "      <td>Delhi / NCR\\n(3678)</td>\n",
       "      <td>Pinga Solutions\\n3.0\\n(18 Reviews)</td>\n",
       "      <td>3-8 Yrs</td>\n",
       "    </tr>\n",
       "    <tr>\n",
       "      <th>2</th>\n",
       "      <td>SEO Expert</td>\n",
       "      <td>Delhi / NCR\\n(3678)</td>\n",
       "      <td>Akrsk.com</td>\n",
       "      <td>1-3 Yrs</td>\n",
       "    </tr>\n",
       "    <tr>\n",
       "      <th>3</th>\n",
       "      <td>Software Application Developer</td>\n",
       "      <td>Delhi / NCR\\n(3678)</td>\n",
       "      <td>Odyssey India Ltd\\n3.2\\n(24 Reviews)</td>\n",
       "      <td>2-4 Yrs</td>\n",
       "    </tr>\n",
       "    <tr>\n",
       "      <th>4</th>\n",
       "      <td>Search Engine Optimization Expert</td>\n",
       "      <td>Delhi / NCR\\n(3678)</td>\n",
       "      <td>Nine Digital</td>\n",
       "      <td>2-3 Yrs</td>\n",
       "    </tr>\n",
       "    <tr>\n",
       "      <th>5</th>\n",
       "      <td>WordPress/PHP developer</td>\n",
       "      <td>Delhi / NCR\\n(3678)</td>\n",
       "      <td>IT Monteur</td>\n",
       "      <td>1-2 Yrs</td>\n",
       "    </tr>\n",
       "    <tr>\n",
       "      <th>6</th>\n",
       "      <td>HTML Expert / WEB Designer</td>\n",
       "      <td>Delhi / NCR\\n(3678)</td>\n",
       "      <td>Akrsk.com</td>\n",
       "      <td>1-5 Yrs</td>\n",
       "    </tr>\n",
       "    <tr>\n",
       "      <th>7</th>\n",
       "      <td>Photoshop Designers</td>\n",
       "      <td>Delhi / NCR\\n(3678)</td>\n",
       "      <td>Dimension India Networks (P) Ltd\\n3.7\\n(91 Rev...</td>\n",
       "      <td>0-3 Yrs</td>\n",
       "    </tr>\n",
       "    <tr>\n",
       "      <th>8</th>\n",
       "      <td>Quality Analyst - Manual/Automation Testing</td>\n",
       "      <td>Delhi / NCR\\n(3678)</td>\n",
       "      <td>Huquo Consulting Pvt. Ltd</td>\n",
       "      <td>3-6 Yrs</td>\n",
       "    </tr>\n",
       "    <tr>\n",
       "      <th>9</th>\n",
       "      <td>Social Media Strategist</td>\n",
       "      <td>Delhi / NCR\\n(3678)</td>\n",
       "      <td>Nine Digital</td>\n",
       "      <td>2-3 Yrs</td>\n",
       "    </tr>\n",
       "  </tbody>\n",
       "</table>\n",
       "</div>"
      ],
      "text/plain": [
       "                                               Title             Location  \\\n",
       "0  Senior Quality Assurance Engineer/Lead Enginee...  Delhi / NCR\\n(3678)   \n",
       "1                          Senior Software Developer  Delhi / NCR\\n(3678)   \n",
       "2                                         SEO Expert  Delhi / NCR\\n(3678)   \n",
       "3                     Software Application Developer  Delhi / NCR\\n(3678)   \n",
       "4                  Search Engine Optimization Expert  Delhi / NCR\\n(3678)   \n",
       "5                            WordPress/PHP developer  Delhi / NCR\\n(3678)   \n",
       "6                         HTML Expert / WEB Designer  Delhi / NCR\\n(3678)   \n",
       "7                                Photoshop Designers  Delhi / NCR\\n(3678)   \n",
       "8        Quality Analyst - Manual/Automation Testing  Delhi / NCR\\n(3678)   \n",
       "9                            Social Media Strategist  Delhi / NCR\\n(3678)   \n",
       "\n",
       "                                       company names experience  \n",
       "0           MedTrail Technologies\\n2.7\\n(10 Reviews)    4-8 Yrs  \n",
       "1                 Pinga Solutions\\n3.0\\n(18 Reviews)    3-8 Yrs  \n",
       "2                                          Akrsk.com    1-3 Yrs  \n",
       "3               Odyssey India Ltd\\n3.2\\n(24 Reviews)    2-4 Yrs  \n",
       "4                                       Nine Digital    2-3 Yrs  \n",
       "5                                         IT Monteur    1-2 Yrs  \n",
       "6                                          Akrsk.com    1-5 Yrs  \n",
       "7  Dimension India Networks (P) Ltd\\n3.7\\n(91 Rev...    0-3 Yrs  \n",
       "8                          Huquo Consulting Pvt. Ltd    3-6 Yrs  \n",
       "9                                       Nine Digital    2-3 Yrs  "
      ]
     },
     "execution_count": 102,
     "metadata": {},
     "output_type": "execute_result"
    }
   ],
   "source": [
    "jobs[:10]"
   ]
  },
  {
   "cell_type": "markdown",
   "id": "d74dd19c",
   "metadata": {},
   "source": [
    "Q4: Write a python program to scrape data for first 10 job results for Data scientist \n",
    "Designation in Noida location. You have to scrape company_name, No. of days \n",
    "ago when job was posted, Rating of the company"
   ]
  },
  {
   "cell_type": "markdown",
   "id": "155ea6d1",
   "metadata": {},
   "source": [
    "Q5: Write a python program to scrape the salary data for Data Scientist designation \n",
    "in Noida location."
   ]
  },
  {
   "cell_type": "markdown",
   "id": "c0afe880",
   "metadata": {},
   "source": [
    "Q6 : Scrape data of first 100 sunglasses listings on flipkart.com. You have to \n",
    "scrape four attributes:\n",
    "1. Brand\n",
    "2. Product Description\n",
    "3. Price\n",
    "4. Discount %\n",
    "The attributes which you have to scrape is ticked marked in the below image"
   ]
  },
  {
   "cell_type": "code",
   "execution_count": 112,
   "id": "1ddb2a80",
   "metadata": {},
   "outputs": [],
   "source": [
    "# LETS NOW IMPORT ALL REQUIRED LIBRARIES\n",
    "import selenium\n",
    "import pandas as pd\n",
    "from selenium import webdriver"
   ]
  },
  {
   "cell_type": "code",
   "execution_count": 113,
   "id": "cb9522b6",
   "metadata": {},
   "outputs": [],
   "source": [
    "driver = webdriver.Chrome(\"chromedriver.exe\")"
   ]
  },
  {
   "cell_type": "code",
   "execution_count": 114,
   "id": "f6b4588b",
   "metadata": {},
   "outputs": [],
   "source": [
    "url = 'https://www.flipkart.com/'\n",
    "driver.get(url)"
   ]
  },
  {
   "cell_type": "code",
   "execution_count": 119,
   "id": "9b9be268",
   "metadata": {},
   "outputs": [
    {
     "data": {
      "text/plain": [
       "<selenium.webdriver.remote.webelement.WebElement (session=\"695a01b71004ab8ce2cf2e918467053e\", element=\"4088d366-f4b3-4594-84dc-06236e4e7e3c\")>"
      ]
     },
     "execution_count": 119,
     "metadata": {},
     "output_type": "execute_result"
    }
   ],
   "source": [
    "#finding element for job search bar\n",
    "search = driver.find_element_by_xpath('//div[@class=\"_3OO5Xc\"]')\n",
    "search"
   ]
  },
  {
   "cell_type": "code",
   "execution_count": null,
   "id": "b2df8f10",
   "metadata": {},
   "outputs": [],
   "source": [
    "#write on search bar\n",
    "search.send_keys(\"Sun glasses\")"
   ]
  },
  {
   "cell_type": "markdown",
   "id": "d4f077e9",
   "metadata": {},
   "source": [
    "Q7: Scrape 100 reviews data from flipkart.com for iphone11 phone."
   ]
  },
  {
   "cell_type": "code",
   "execution_count": 121,
   "id": "659b4e9f",
   "metadata": {},
   "outputs": [],
   "source": [
    "# LETS NOW IMPORT ALL REQUIRED LIBRARIES\n",
    "import selenium\n",
    "import pandas as pd\n",
    "from selenium import webdriver"
   ]
  },
  {
   "cell_type": "code",
   "execution_count": 122,
   "id": "125b660a",
   "metadata": {},
   "outputs": [],
   "source": [
    "driver = webdriver.Chrome(\"chromedriver.exe\")"
   ]
  },
  {
   "cell_type": "code",
   "execution_count": 123,
   "id": "69774146",
   "metadata": {},
   "outputs": [],
   "source": [
    "url = 'https://www.flipkart.com/apple-iphone-11-black-64-gb-includes%02earpods-power%02adapter/p/itm0f37c2240b217?pid=MOBFKCTSVZAXUHGR&lid=LSTMOBFKC%20TSVZAXUHGREPBFGI&marketplace.'\n",
    "driver.get(url)"
   ]
  },
  {
   "cell_type": "code",
   "execution_count": 150,
   "id": "c6617625",
   "metadata": {},
   "outputs": [
    {
     "data": {
      "text/plain": [
       "<selenium.webdriver.remote.webelement.WebElement (session=\"67538c3f70cdba0cc6fe63ea020a2bf7\", element=\"cdb2425c-dd73-40bf-962e-7ead6bfc121c\")>"
      ]
     },
     "execution_count": 150,
     "metadata": {},
     "output_type": "execute_result"
    }
   ],
   "source": [
    "search_rating = driver.find_element_by_xpath('//div[@class=\"col-8-12 _3qpj74 _31DkEZ\"]')\n",
    "search_rating"
   ]
  },
  {
   "cell_type": "code",
   "execution_count": 174,
   "id": "41613b29",
   "metadata": {},
   "outputs": [
    {
     "name": "stdout",
     "output_type": "stream",
     "text": [
      "64,128 Ratings &\n",
      "64,128 Ratings &\n",
      "64,128 Ratings &\n",
      "64,128 Ratings &\n",
      "64,128 Ratings &\n",
      "64,128 Ratings &\n",
      "64,128 Ratings &\n",
      "64,128 Ratings &\n",
      "64,128 Ratings &\n",
      "64,128 Ratings &\n",
      "64,128 Ratings &\n",
      "64,128 Ratings &\n",
      "64,128 Ratings &\n",
      "64,128 Ratings &\n",
      "64,128 Ratings &\n",
      "64,128 Ratings &\n"
     ]
    },
    {
     "data": {
      "text/plain": [
       "'64,128 Ratings &'"
      ]
     },
     "execution_count": 174,
     "metadata": {},
     "output_type": "execute_result"
    }
   ],
   "source": [
    "# now we need to extract the data into text format\n",
    "phone_ratings=search_rating.text\n",
    "for i in phone_ratings[:100]:\n",
    "    print(phone_ratings)\n",
    "phone_ratings"
   ]
  },
  {
   "cell_type": "code",
   "execution_count": 157,
   "id": "f815a1e9",
   "metadata": {},
   "outputs": [
    {
     "data": {
      "text/plain": [
       "[<selenium.webdriver.remote.webelement.WebElement (session=\"67538c3f70cdba0cc6fe63ea020a2bf7\", element=\"4130d7cd-fad2-40d6-81e7-0d83280ab590\")>,\n",
       " <selenium.webdriver.remote.webelement.WebElement (session=\"67538c3f70cdba0cc6fe63ea020a2bf7\", element=\"a2ea4f00-c021-49e9-9e4a-32cda5512214\")>,\n",
       " <selenium.webdriver.remote.webelement.WebElement (session=\"67538c3f70cdba0cc6fe63ea020a2bf7\", element=\"bbcad75e-127c-4e1c-a5e9-016d3a80d57c\")>,\n",
       " <selenium.webdriver.remote.webelement.WebElement (session=\"67538c3f70cdba0cc6fe63ea020a2bf7\", element=\"260e5c53-885e-42f3-8f1a-8ff5520822a8\")>,\n",
       " <selenium.webdriver.remote.webelement.WebElement (session=\"67538c3f70cdba0cc6fe63ea020a2bf7\", element=\"fef5e504-9080-4a48-8381-56e3a918f5c4\")>,\n",
       " <selenium.webdriver.remote.webelement.WebElement (session=\"67538c3f70cdba0cc6fe63ea020a2bf7\", element=\"a016f7d7-70b8-417d-bfe5-77a20a7269ed\")>,\n",
       " <selenium.webdriver.remote.webelement.WebElement (session=\"67538c3f70cdba0cc6fe63ea020a2bf7\", element=\"c3a074d8-b36d-4ac0-bfc3-961021cfa6da\")>,\n",
       " <selenium.webdriver.remote.webelement.WebElement (session=\"67538c3f70cdba0cc6fe63ea020a2bf7\", element=\"7d2b5171-5ebd-49cb-8262-f68c182eda3e\")>,\n",
       " <selenium.webdriver.remote.webelement.WebElement (session=\"67538c3f70cdba0cc6fe63ea020a2bf7\", element=\"315ca70c-9dea-456a-a02d-e9ea56235526\")>,\n",
       " <selenium.webdriver.remote.webelement.WebElement (session=\"67538c3f70cdba0cc6fe63ea020a2bf7\", element=\"ab6595ef-1025-4c1b-bb1b-a975c007ad29\")>]"
      ]
     },
     "execution_count": 157,
     "metadata": {},
     "output_type": "execute_result"
    }
   ],
   "source": [
    "search_review = driver.find_elements_by_xpath('//div[@class=\"t-ZTKy\"]')\n",
    "search_review"
   ]
  },
  {
   "cell_type": "code",
   "execution_count": 160,
   "id": "6d1cbb3d",
   "metadata": {},
   "outputs": [
    {
     "data": {
      "text/plain": [
       "['The Best Phone for the MoneyThe iPhone 11 offers superb cameras, a more durable design and excellent battery life for an affordable price.Compelling ultra-wide cameraNew Night mode is excellentLong battery life',\n",
       " 'Amazing phone with great cameras and better battery which gives you the best performance. I just love the camera .',\n",
       " 'Amazing Powerful and Durable Gadget.I’m am very happy with the camera picture quality, Amazing face id unlocked in dark room, Strong battery with perfect screen size as you can carry easily in pocket. This is my third iPhone.I shifted from android Samsung Note series to iPhone because of the strong build quality and peace of mind for next 3-4 years.Don’t think to much just go for it and I suggest you to go for minimum 128gb variant or more 256gb.I’ve attached my puppy pics and no fi...READ MORE',\n",
       " '',\n",
       " '',\n",
       " '',\n",
       " '',\n",
       " '',\n",
       " '',\n",
       " '']"
      ]
     },
     "execution_count": 160,
     "metadata": {},
     "output_type": "execute_result"
    }
   ],
   "source": [
    "# now we need to extract the data into text format\n",
    "phone_reviews=[]\n",
    "for i in search_review:\n",
    "    phone_reviews.append(i.text.replace('\\n',''))\n",
    "phone_reviews[:100]"
   ]
  },
  {
   "cell_type": "code",
   "execution_count": 165,
   "id": "6ebabf6e",
   "metadata": {},
   "outputs": [
    {
     "data": {
      "text/plain": [
       "[<selenium.webdriver.remote.webelement.WebElement (session=\"67538c3f70cdba0cc6fe63ea020a2bf7\", element=\"9e6b10c5-c5a3-4f10-a6f1-f2a44d771156\")>,\n",
       " <selenium.webdriver.remote.webelement.WebElement (session=\"67538c3f70cdba0cc6fe63ea020a2bf7\", element=\"2c9151f9-c5a1-4d06-9476-ad7ff3222006\")>,\n",
       " <selenium.webdriver.remote.webelement.WebElement (session=\"67538c3f70cdba0cc6fe63ea020a2bf7\", element=\"033398d1-277c-4bc6-b794-4565d6cd1611\")>,\n",
       " <selenium.webdriver.remote.webelement.WebElement (session=\"67538c3f70cdba0cc6fe63ea020a2bf7\", element=\"53e6b2f5-441a-4e0a-85f8-b83d4b2a2205\")>,\n",
       " <selenium.webdriver.remote.webelement.WebElement (session=\"67538c3f70cdba0cc6fe63ea020a2bf7\", element=\"ddadeabe-3140-4dfe-8c76-a0d97cc9acc5\")>,\n",
       " <selenium.webdriver.remote.webelement.WebElement (session=\"67538c3f70cdba0cc6fe63ea020a2bf7\", element=\"4f226255-a2dd-457d-a278-3eb7f98d8242\")>,\n",
       " <selenium.webdriver.remote.webelement.WebElement (session=\"67538c3f70cdba0cc6fe63ea020a2bf7\", element=\"7933abb9-7d2b-46d6-a7df-05e11766d8a7\")>,\n",
       " <selenium.webdriver.remote.webelement.WebElement (session=\"67538c3f70cdba0cc6fe63ea020a2bf7\", element=\"15cc2afe-3dee-4ac9-9d67-bfb33b036ed0\")>,\n",
       " <selenium.webdriver.remote.webelement.WebElement (session=\"67538c3f70cdba0cc6fe63ea020a2bf7\", element=\"70c3278f-3418-4b82-bc2a-6d91bceae09a\")>,\n",
       " <selenium.webdriver.remote.webelement.WebElement (session=\"67538c3f70cdba0cc6fe63ea020a2bf7\", element=\"45100fae-d037-4442-ba43-5bbee167116f\")>]"
      ]
     },
     "execution_count": 165,
     "metadata": {},
     "output_type": "execute_result"
    }
   ],
   "source": [
    "summary_review = driver.find_elements_by_xpath('//p[@class=\"_2-N8zT\"]')\n",
    "summary_review[:100]"
   ]
  },
  {
   "cell_type": "code",
   "execution_count": 166,
   "id": "bd44d336",
   "metadata": {},
   "outputs": [
    {
     "data": {
      "text/plain": [
       "['Brilliant', 'Perfect product!', 'Great product', '', '', '', '', '', '', '']"
      ]
     },
     "execution_count": 166,
     "metadata": {},
     "output_type": "execute_result"
    }
   ],
   "source": [
    "# now we need to extract the data into text format\n",
    "phone_summary=[]\n",
    "for i in summary_review:\n",
    "    phone_summary.append(i.text)\n",
    "phone_summary"
   ]
  },
  {
   "cell_type": "code",
   "execution_count": 175,
   "id": "892aaf60",
   "metadata": {},
   "outputs": [],
   "source": [
    "import pandas as pd\n",
    "phone=pd.DataFrame({})\n",
    "phone['rating']=phone_ratings\n",
    "phone['reviews']=phone_reviews\n",
    "phone['summary']=phone_summary"
   ]
  },
  {
   "cell_type": "code",
   "execution_count": 176,
   "id": "41993be9",
   "metadata": {},
   "outputs": [
    {
     "data": {
      "text/html": [
       "<div>\n",
       "<style scoped>\n",
       "    .dataframe tbody tr th:only-of-type {\n",
       "        vertical-align: middle;\n",
       "    }\n",
       "\n",
       "    .dataframe tbody tr th {\n",
       "        vertical-align: top;\n",
       "    }\n",
       "\n",
       "    .dataframe thead th {\n",
       "        text-align: right;\n",
       "    }\n",
       "</style>\n",
       "<table border=\"1\" class=\"dataframe\">\n",
       "  <thead>\n",
       "    <tr style=\"text-align: right;\">\n",
       "      <th></th>\n",
       "      <th>rating</th>\n",
       "      <th>reviews</th>\n",
       "      <th>summary</th>\n",
       "    </tr>\n",
       "  </thead>\n",
       "  <tbody>\n",
       "    <tr>\n",
       "      <th>0</th>\n",
       "      <td>NaN</td>\n",
       "      <td>The Best Phone for the MoneyThe iPhone 11 offe...</td>\n",
       "      <td>Brilliant</td>\n",
       "    </tr>\n",
       "    <tr>\n",
       "      <th>1</th>\n",
       "      <td>NaN</td>\n",
       "      <td>Amazing phone with great cameras and better ba...</td>\n",
       "      <td>Perfect product!</td>\n",
       "    </tr>\n",
       "    <tr>\n",
       "      <th>2</th>\n",
       "      <td>NaN</td>\n",
       "      <td>Amazing Powerful and Durable Gadget.I’m am ver...</td>\n",
       "      <td>Great product</td>\n",
       "    </tr>\n",
       "    <tr>\n",
       "      <th>3</th>\n",
       "      <td>NaN</td>\n",
       "      <td></td>\n",
       "      <td></td>\n",
       "    </tr>\n",
       "    <tr>\n",
       "      <th>4</th>\n",
       "      <td>NaN</td>\n",
       "      <td></td>\n",
       "      <td></td>\n",
       "    </tr>\n",
       "    <tr>\n",
       "      <th>5</th>\n",
       "      <td>NaN</td>\n",
       "      <td></td>\n",
       "      <td></td>\n",
       "    </tr>\n",
       "    <tr>\n",
       "      <th>6</th>\n",
       "      <td>NaN</td>\n",
       "      <td></td>\n",
       "      <td></td>\n",
       "    </tr>\n",
       "    <tr>\n",
       "      <th>7</th>\n",
       "      <td>NaN</td>\n",
       "      <td></td>\n",
       "      <td></td>\n",
       "    </tr>\n",
       "    <tr>\n",
       "      <th>8</th>\n",
       "      <td>NaN</td>\n",
       "      <td></td>\n",
       "      <td></td>\n",
       "    </tr>\n",
       "    <tr>\n",
       "      <th>9</th>\n",
       "      <td>NaN</td>\n",
       "      <td></td>\n",
       "      <td></td>\n",
       "    </tr>\n",
       "  </tbody>\n",
       "</table>\n",
       "</div>"
      ],
      "text/plain": [
       "  rating                                            reviews           summary\n",
       "0    NaN  The Best Phone for the MoneyThe iPhone 11 offe...         Brilliant\n",
       "1    NaN  Amazing phone with great cameras and better ba...  Perfect product!\n",
       "2    NaN  Amazing Powerful and Durable Gadget.I’m am ver...     Great product\n",
       "3    NaN                                                                     \n",
       "4    NaN                                                                     \n",
       "5    NaN                                                                     \n",
       "6    NaN                                                                     \n",
       "7    NaN                                                                     \n",
       "8    NaN                                                                     \n",
       "9    NaN                                                                     "
      ]
     },
     "execution_count": 176,
     "metadata": {},
     "output_type": "execute_result"
    }
   ],
   "source": [
    "phone"
   ]
  },
  {
   "cell_type": "code",
   "execution_count": null,
   "id": "848d9b65",
   "metadata": {},
   "outputs": [],
   "source": []
  },
  {
   "cell_type": "code",
   "execution_count": null,
   "id": "ce94d944",
   "metadata": {},
   "outputs": [],
   "source": []
  }
 ],
 "metadata": {
  "kernelspec": {
   "display_name": "Python 3",
   "language": "python",
   "name": "python3"
  },
  "language_info": {
   "codemirror_mode": {
    "name": "ipython",
    "version": 3
   },
   "file_extension": ".py",
   "mimetype": "text/x-python",
   "name": "python",
   "nbconvert_exporter": "python",
   "pygments_lexer": "ipython3",
   "version": "3.8.8"
  }
 },
 "nbformat": 4,
 "nbformat_minor": 5
}
